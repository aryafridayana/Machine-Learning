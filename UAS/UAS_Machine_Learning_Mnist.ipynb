{
  "nbformat": 4,
  "nbformat_minor": 0,
  "metadata": {
    "colab": {
      "provenance": [],
      "authorship_tag": "ABX9TyO30DMNCyJvH5LEGGUmdJK8",
      "include_colab_link": true
    },
    "kernelspec": {
      "name": "python3",
      "display_name": "Python 3"
    },
    "language_info": {
      "name": "python"
    }
  },
  "cells": [
    {
      "cell_type": "markdown",
      "metadata": {
        "id": "view-in-github",
        "colab_type": "text"
      },
      "source": [
        "<a href=\"https://colab.research.google.com/github/aryafridayana/Machine-Learning/blob/main/UAS/UAS_Machine_Learning_Mnist.ipynb\" target=\"_parent\"><img src=\"https://colab.research.google.com/assets/colab-badge.svg\" alt=\"Open In Colab\"/></a>"
      ]
    },
    {
      "cell_type": "markdown",
      "source": [
        "Arya Fridayana Gastiadi\n",
        "\n",
        "1103210082\n",
        "\n",
        "UAS Machine Learning\n",
        "\n",
        "Dataset: mnist, Model: CNN\n",
        "\n",
        "Referensi : https://www.tensorflow.org/datasets/catalog/mnist?hl=id & https://www.youtube.com/watch?v=Rf5bSKrLsnk"
      ],
      "metadata": {
        "id": "t0dnhoER51kr"
      }
    },
    {
      "cell_type": "code",
      "execution_count": null,
      "metadata": {
        "id": "MGMMiFC5i7Bb"
      },
      "outputs": [],
      "source": [
        "# Import library TensorFlow\n",
        "import tensorflow as tf\n",
        "# Import library numpy dan mengatur opsi tampilan\n",
        "import numpy as np\n",
        "np.set_printoptions(linewidth=200)\n",
        "# Import library matplotlib untuk visualisasi\n",
        "import matplotlib.pyplot as plt\n",
        "\n",
        "from keras.datasets import mnist\n",
        "from keras.models import Sequential\n",
        "from keras.layers import Conv2D, MaxPooling2D, Flatten, Dense"
      ]
    },
    {
      "cell_type": "code",
      "source": [
        "#Memuat Data\n",
        "(train_X,train_y),(test_X, test_y)= mnist.load_data()"
      ],
      "metadata": {
        "id": "EEn3yFbUjwly"
      },
      "execution_count": null,
      "outputs": []
    },
    {
      "cell_type": "code",
      "source": [
        "#Mencetak bentuk (shape)\n",
        "print(\"Train: \")\n",
        "print(train_X.shape)\n",
        "print(train_y.shape)\n",
        "print(\"Test: \")\n",
        "print(test_X.shape)\n",
        "print(test_y.shape)"
      ],
      "metadata": {
        "colab": {
          "base_uri": "https://localhost:8080/"
        },
        "id": "bstYbhUuj_gM",
        "outputId": "5569f2c7-0cb1-43aa-b18e-5ff22b8bcba8"
      },
      "execution_count": null,
      "outputs": [
        {
          "output_type": "stream",
          "name": "stdout",
          "text": [
            "Train: \n",
            "(60000, 28, 28)\n",
            "(60000,)\n",
            "Test: \n",
            "(10000, 28, 28)\n",
            "(10000,)\n"
          ]
        }
      ]
    },
    {
      "cell_type": "markdown",
      "source": [
        "Penjelasan: bertujuan untuk mencetak ukuran (shape) dari dataset pelatihan (train) dan dataset pengujian (test). Ini merupakan langkah penting dalam proses pembelajaran mesin (machine learning) karena memahami ukuran dataset membantu memastikan bahwa data telah diproses dengan benar dan siap digunakan dalam model pembelajaran mesin."
      ],
      "metadata": {
        "id": "1qgkQuLb3syB"
      }
    },
    {
      "cell_type": "code",
      "source": [
        "#split data\n",
        "# Mengambil 100 data pertama dari set pelatihan dan set pengujian\n",
        "num_train = 100\n",
        "train_X = train_X[:num_train]\n",
        "train_y = train_y[:num_train]\n",
        "num_test = 100\n",
        "test_X = test_X[:num_test]\n",
        "test_y = test_y[:num_test]"
      ],
      "metadata": {
        "id": "jIvOc9dZmD0x"
      },
      "execution_count": null,
      "outputs": []
    },
    {
      "cell_type": "markdown",
      "source": [
        "Penjelasan: mengambil 100 data pertama dari dataset pelatihan (train) dan dataset pengujian (test). Dimana ini berguna untuk mengambil subset data yang lebih kecil untuk pengujian atau pelatihan cepat"
      ],
      "metadata": {
        "id": "uWOJB2Fz3-3o"
      }
    },
    {
      "cell_type": "code",
      "source": [
        "# Menentukan indeks data yang akan ditampilkan\n",
        "index = 50\n",
        "# Menampilkan gambar pada indeks yang ditentukan dari set pelatihan\n",
        "plt.imshow(train_X[index], cmap='gray')\n",
        "# Mencetak label dari data pada indeks yang ditentukan\n",
        "print(train_y[index])\n",
        "# Mencetak nilai piksel dari gambar pada indeks yang ditentukan\n",
        "print(train_X[index])"
      ],
      "metadata": {
        "colab": {
          "base_uri": "https://localhost:8080/",
          "height": 956
        },
        "id": "1THeQWsznAc5",
        "outputId": "d753825a-5a2e-4672-cbd4-b34ce78d8959"
      },
      "execution_count": null,
      "outputs": [
        {
          "output_type": "stream",
          "name": "stdout",
          "text": [
            "3\n",
            "[[  0   0   0   0   0   0   0   0   0   0   0   0   0   0   0   0   0   0   0   0   0   0   0   0   0   0   0   0]\n",
            " [  0   0   0   0   0   0   0   0   0   0   0   0   0   0   0   0   0   0   0   0   0   0   0   0   0   0   0   0]\n",
            " [  0   0   0   0   0   0   0   0   0   0   0   0   0   0   0   0   0   0   0   0   0   0   0   0   0   0   0   0]\n",
            " [  0   0   0   0   0   0   0   0   0   0   0   0   0   0   0   0   0   0   0   0   0   0   0   0   0   0   0   0]\n",
            " [  0   0   0   0   0   0   0   0   0   0  12  56 140 126 175 200  96   2   0   0   0   0   0   0   0   0   0   0]\n",
            " [  0   0   0   0   0   0   0   0  35 166 238 254 246 242 253 246 254  67   0   0   0   0   0   0   0   0   0   0]\n",
            " [  0   0   0   0   0   0   0   0 184 182 146 127  70  30  45  36 215 175   0   0   0   0   0   0   0   0   0   0]\n",
            " [  0   0   0   0   0   0   0   0  30   0   0   0   0   0   0   0 207 246  14   0   0   0   0   0   0   0   0   0]\n",
            " [  0   0   0   0   0   0   0   0   0   0   0   0   0   0   0  55 251 169   1   0   0   0   0   0   0   0   0   0]\n",
            " [  0   0   0   0   0   0   0   0   0   0   0   0   0   0  11 215 232  20   0   0   0   0   0   0   0   0   0   0]\n",
            " [  0   0   0   0   0   0   0   0   0   0   0   0   0  20 190 250  61   0   0   0   0   0   0   0   0   0   0   0]\n",
            " [  0   0   0   0   0   0   0   0   0   0   0  24 118 206 254 248 142 108  18   0   0   0   0   0   0   0   0   0]\n",
            " [  0   0   0   0   0   0   0   0   0   0  63 223 254 254 254 254 254 254 209   0   0   0   0   0   0   0   0   0]\n",
            " [  0   0   0   0   0   0   0   0   0   0  52 174 129  95  16  16  16 106 249 125   0   0   0   0   0   0   0   0]\n",
            " [  0   0   0   0   0   0   0   0   0   0   0   0   0   0   0   0   0   0 179 239   0   0   0   0   0   0   0   0]\n",
            " [  0   0   0   0   0   0   0   0   0   0   0   0   0   0   0   0   0   0  80 239   0   0   0   0   0   0   0   0]\n",
            " [  0   0   0   0   0   0   0   0   0   0   0   0   0   0   0   0   0   0  80 244  20   0   0   0   0   0   0   0]\n",
            " [  0   0   0   0   0   0   0   0   0   0   0   0   0   0   0   0   0   0 100 239   0   0   0   0   0   0   0   0]\n",
            " [  0   0   0   0   0   0   0   0   0   0   0   0   0   0   0   0   0   0 234 239   0   0   0   0   0   0   0   0]\n",
            " [  0   0   0   0   0   0   0   4 140   5   0   0   0   0   0   0   3 150 254 129   0   0   0   0   0   0   0   0]\n",
            " [  0   0   0   0   0   0   0  64 254 181  38   0   0   0   0  34 188 254 209  20   0   0   0   0   0   0   0   0]\n",
            " [  0   0   0   0   0   0   0  12 226 255 223  88  68 128 157 242 254 207  23   0   0   0   0   0   0   0   0   0]\n",
            " [  0   0   0   0   0   0   0   0  45 210 254 254 254 254 255 254 187  49   0   0   0   0   0   0   0   0   0   0]\n",
            " [  0   0   0   0   0   0   0   0   0  41 129 239 229 179  91  16   3   0   0   0   0   0   0   0   0   0   0   0]\n",
            " [  0   0   0   0   0   0   0   0   0   0   0   0   0   0   0   0   0   0   0   0   0   0   0   0   0   0   0   0]\n",
            " [  0   0   0   0   0   0   0   0   0   0   0   0   0   0   0   0   0   0   0   0   0   0   0   0   0   0   0   0]\n",
            " [  0   0   0   0   0   0   0   0   0   0   0   0   0   0   0   0   0   0   0   0   0   0   0   0   0   0   0   0]\n",
            " [  0   0   0   0   0   0   0   0   0   0   0   0   0   0   0   0   0   0   0   0   0   0   0   0   0   0   0   0]]\n"
          ]
        },
        {
          "output_type": "display_data",
          "data": {
            "text/plain": [
              "<Figure size 640x480 with 1 Axes>"
            ],
            "image/png": "[encoded data removed]"
          },
          "metadata": {}
        }
      ]
    },
    {
      "cell_type": "markdown",
      "source": [
        "Penjelasan: untuk menampilkan gambar pada indeks tertentu dari dataset pelatihan, mencetak labelnya, serta mencetak nilai piksel dari gambar tersebut"
      ],
      "metadata": {
        "id": "pyHLs12I4Xpq"
      }
    },
    {
      "cell_type": "markdown",
      "source": [
        "#CNN"
      ],
      "metadata": {
        "id": "L3ph-ypRyLTO"
      }
    },
    {
      "cell_type": "code",
      "source": [
        "# Load dataset MNIST\n",
        "mnist = tf.keras.datasets.mnist\n",
        "(train_X, train_y), (test_X, test_y) = mnist.load_data()"
      ],
      "metadata": {
        "id": "I3vsVnmtyMp9"
      },
      "execution_count": null,
      "outputs": []
    },
    {
      "cell_type": "code",
      "source": [
        "# Preprocess dataset\n",
        "train_X = train_X.reshape((train_X.shape[0], 28, 28, 1)) / 255.0\n",
        "test_X = test_X.reshape((test_X.shape[0], 28, 28, 1)) / 255.0"
      ],
      "metadata": {
        "id": "uZHYNUsGo1wY"
      },
      "execution_count": null,
      "outputs": []
    },
    {
      "cell_type": "markdown",
      "source": [
        "Penjelasan: melakukan pra-pemrosesan data pada dataset pelatihan dan pengujian sebelum digunakan dalam model pembelajaran mesin, khususnya untuk tugas pengenalan gambar (misalnya, dataset MNIST)"
      ],
      "metadata": {
        "id": "PZWQxX-e4jMr"
      }
    },
    {
      "cell_type": "code",
      "source": [
        "# Define model\n",
        "model = Sequential([\n",
        "    Conv2D(32, (3, 3), activation='relu', input_shape=(28, 28, 1)),  # Convolutional layer dengan 32 filter 3x3 dan ReLU activation\n",
        "    MaxPooling2D((2, 2)),  # Max pooling layer dengan filter 2x2\n",
        "    Conv2D(64, (3, 3), activation='relu'),  # Convolutional layer dengan 64 filter 3x3 dan ReLU activation\n",
        "    MaxPooling2D((2, 2)),  # Max pooling layer dengan filter 2x2\n",
        "    Flatten(),  # Meratakan output dari lapisan sebelumnya menjadi vektor\n",
        "    Dense(128, activation='relu'),  # Fully connected layer dengan 128 unit dan ReLU activation\n",
        "    Dense(10, activation='softmax')  # Output layer dengan 10 unit untuk klasifikasi 10 kategori dan softmax activation\n",
        "])"
      ],
      "metadata": {
        "id": "jb9M-a2OpEBa"
      },
      "execution_count": null,
      "outputs": []
    },
    {
      "cell_type": "markdown",
      "source": [
        "Penjelasan: model ini memiliki dua lapisan konvolusi (Conv2D) yang diikuti oleh lapisan max pooling (MaxPooling2D), kemudian diikuti oleh lapisan Flatten, lapisan Fully Connected (Dense), dan lapisan output dengan fungsi aktivasi softmax untuk klasifikasi multi-kelas. Model ini dirancang untuk melakukan klasifikasi gambar dalam dataset MNIST atau dataset serupa."
      ],
      "metadata": {
        "id": "K_uAWz2C4oIS"
      }
    },
    {
      "cell_type": "code",
      "source": [
        "# Compile the model\n",
        "model.compile(optimizer='adam',\n",
        "              loss='sparse_categorical_crossentropy',\n",
        "              metrics=['accuracy'])"
      ],
      "metadata": {
        "id": "T9OhxeXQqFV7"
      },
      "execution_count": null,
      "outputs": []
    },
    {
      "cell_type": "markdown",
      "source": [
        "Penjelasan: Jadi, dengan menggunakan konfigurasi ini, model akan dijalankan dengan optimizer Adam, menggunakan fungsi loss sparse_categorical_crossentropy, dan diukur kinerjanya menggunakan metrik 'accuracy'. Konfigurasi ini umum digunakan dan cocok untuk sebagian besar kasus klasifikasi."
      ],
      "metadata": {
        "id": "NPtS6Iz844ji"
      }
    },
    {
      "cell_type": "code",
      "source": [
        "# Train the model\n",
        "history = model.fit(train_X, train_y, epochs=10, validation_data=(test_X, test_y))\n",
        "\n",
        "# Plot training history\n",
        "plt.plot(history.history['accuracy'], label='accuracy')  # Akurasi pelatihan\n",
        "plt.plot(history.history['val_accuracy'], label='Val_accuracy')  # Akurasi validasi\n",
        "plt.xlabel('Epoch')  # Label sumbu X\n",
        "plt.ylabel('Accuracy')  # Label sumbu Y\n",
        "plt.ylim([0, 1])  # Rentang sumbu Y dari 0 hingga 1\n",
        "plt.legend(loc='lower right')  # Menampilkan legenda di sudut kanan bawah grafik\n",
        "plt.show()  # Menampilkan grafik"
      ],
      "metadata": {
        "colab": {
          "base_uri": "https://localhost:8080/",
          "height": 818
        },
        "id": "NVt8nKT6qg0Z",
        "outputId": "1ff106e2-39e3-4432-a57a-45bb11358650"
      },
      "execution_count": null,
      "outputs": [
        {
          "output_type": "stream",
          "name": "stdout",
          "text": [
            "Epoch 1/10\n",
            "1875/1875 [==============================] - 54s 28ms/step - loss: 0.1264 - accuracy: 0.9611 - val_loss: 0.0533 - val_accuracy: 0.9824\n",
            "Epoch 2/10\n",
            "1875/1875 [==============================] - 49s 26ms/step - loss: 0.0420 - accuracy: 0.9869 - val_loss: 0.0408 - val_accuracy: 0.9865\n",
            "Epoch 3/10\n",
            "1875/1875 [==============================] - 48s 26ms/step - loss: 0.0291 - accuracy: 0.9908 - val_loss: 0.0290 - val_accuracy: 0.9909\n",
            "Epoch 4/10\n",
            "1875/1875 [==============================] - 49s 26ms/step - loss: 0.0209 - accuracy: 0.9934 - val_loss: 0.0378 - val_accuracy: 0.9882\n",
            "Epoch 5/10\n",
            "1875/1875 [==============================] - 51s 27ms/step - loss: 0.0153 - accuracy: 0.9949 - val_loss: 0.0272 - val_accuracy: 0.9916\n",
            "Epoch 6/10\n",
            "1875/1875 [==============================] - 48s 26ms/step - loss: 0.0110 - accuracy: 0.9966 - val_loss: 0.0290 - val_accuracy: 0.9917\n",
            "Epoch 7/10\n",
            "1875/1875 [==============================] - 54s 29ms/step - loss: 0.0090 - accuracy: 0.9970 - val_loss: 0.0374 - val_accuracy: 0.9897\n",
            "Epoch 8/10\n",
            "1875/1875 [==============================] - 55s 29ms/step - loss: 0.0092 - accuracy: 0.9972 - val_loss: 0.0321 - val_accuracy: 0.9917\n",
            "Epoch 9/10\n",
            "1875/1875 [==============================] - 52s 28ms/step - loss: 0.0070 - accuracy: 0.9977 - val_loss: 0.0294 - val_accuracy: 0.9923\n",
            "Epoch 10/10\n",
            "1875/1875 [==============================] - 51s 27ms/step - loss: 0.0057 - accuracy: 0.9981 - val_loss: 0.0375 - val_accuracy: 0.9912\n"
          ]
        },
        {
          "output_type": "display_data",
          "data": {
            "text/plain": [
              "<Figure size 640x480 with 1 Axes>"
            ],
            "image/png": "[encoded data removed]"
          },
          "metadata": {}
        }
      ]
    },
    {
      "cell_type": "markdown",
      "source": [
        "Penjelasan: melatih model menggunakan data pelatihan train_X dan train_y, dengan melakukan 10 epoch (putaran) pada proses pelatihan. Setiap epoch, model akan mengoptimalkan parameter-parameternya untuk meningkatkan akurasi prediksi terhadap data pelatihan. Selain itu, proses validasi juga dilakukan pada data validasi test_X dan test_y, sehingga bisa melihat bagaimana performa model di luar data pelatihan."
      ],
      "metadata": {
        "id": "MfmMtB6v5JsR"
      }
    },
    {
      "cell_type": "code",
      "source": [
        "# Evaluate the model on test data\n",
        "test_loss, test_accuracy = model.evaluate(test_X, test_y)\n",
        "\n",
        "# Print the test accuracy\n",
        "print(f'Test accuracy: {test_accuracy}')"
      ],
      "metadata": {
        "colab": {
          "base_uri": "https://localhost:8080/"
        },
        "id": "wRfwMmOv5Ri8",
        "outputId": "4cb7f1c7-6354-4027-e792-6dd6853502e1"
      },
      "execution_count": null,
      "outputs": [
        {
          "output_type": "stream",
          "name": "stdout",
          "text": [
            "313/313 [==============================] - 5s 14ms/step - loss: 0.0375 - accuracy: 0.9912\n",
            "Test accuracy: 0.9911999702453613\n"
          ]
        }
      ]
    }
  ]
}