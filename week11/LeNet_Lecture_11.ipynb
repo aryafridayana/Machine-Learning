{
  "nbformat": 4,
  "nbformat_minor": 0,
  "metadata": {
    "colab": {
      "provenance": [],
      "authorship_tag": "ABX9TyMW70gZ/Qqr+dRygWWqmT3m",
      "include_colab_link": true
    },
    "kernelspec": {
      "name": "python3",
      "display_name": "Python 3"
    },
    "language_info": {
      "name": "python"
    }
  },
  "cells": [
    {
      "cell_type": "markdown",
      "metadata": {
        "id": "view-in-github",
        "colab_type": "text"
      },
      "source": [
        "<a href=\"https://colab.research.google.com/github/aryafridayana/Machine-Learning/blob/Task-Week-11/week11/LeNet_Lecture_11.ipynb\" target=\"_parent\"><img src=\"https://colab.research.google.com/assets/colab-badge.svg\" alt=\"Open In Colab\"/></a>"
      ]
    },
    {
      "cell_type": "markdown",
      "source": [
        "###Arya Fridayana Gastiadi\n",
        "###1103210082\n",
        "###Lecture : 11\n",
        "###Model: LeNet\n"
      ],
      "metadata": {
        "id": "M51ra7P0ZyLp"
      }
    },
    {
      "cell_type": "markdown",
      "source": [
        "LeNet adalah salah satu arsitektur jaringan saraf tiruan (neural network) yang dirancang untuk pengenalan pola, khususnya dalam pengenalan karakter tulisan tangan. LeNet pertama kali diperkenalkan oleh Yann LeCun dan rekannya pada akhir 1980-an dan awal 1990-an. Arsitektur LeNet, khususnya LeNet-5, menjadi sangat terkenal dan berpengaruh dalam pengembangan teknik pengenalan gambar dan deep learning.\n",
        "\n",
        "### Struktur LeNet-5\n",
        "\n",
        "LeNet-5 adalah versi paling terkenal dari LeNet dan memiliki struktur sebagai berikut:\n",
        "\n",
        "1. **Input Layer**: Gambar ukuran 32x32 piksel.\n",
        "2. **C1 - Convolutional Layer**: 6 feature maps dengan kernel (filter) ukuran 5x5, menghasilkan 6 feature maps ukuran 28x28.\n",
        "3. **S2 - Subsampling Layer (Pooling Layer)**: 6 feature maps ukuran 14x14 melalui average pooling dengan faktor subsampling 2x2.\n",
        "4. **C3 - Convolutional Layer**: 16 feature maps dengan kernel ukuran 5x5, menghasilkan 16 feature maps ukuran 10x10.\n",
        "5. **S4 - Subsampling Layer (Pooling Layer)**: 16 feature maps ukuran 5x5 melalui average pooling dengan faktor subsampling 2x2.\n",
        "6. **C5 - Convolutional Layer**: 120 feature maps ukuran 1x1 dengan kernel ukuran 5x5.\n",
        "7. **F6 - Fully Connected Layer**: 84 neurons.\n",
        "8. **Output Layer**: Softmax layer dengan 10 output units untuk klasifikasi 10 digit (0-9).\n",
        "\n",
        "### Kelebihan dan Penggunaan\n",
        "\n",
        "LeNet-5 dirancang khusus untuk pengenalan karakter tulisan tangan dan telah digunakan secara luas dalam pengenalan digit tulisan tangan (seperti dataset MNIST). Beberapa kelebihan dari LeNet-5 adalah:\n",
        "\n",
        "- **Efisiensi Komputasi**: Arsitektur ini dirancang untuk bekerja dengan baik pada perangkat keras yang tersedia pada saat itu.\n",
        "- **Penggunaan Convolutional dan Pooling Layers**: Pendekatan ini mengurangi dimensionalitas data secara efektif sambil mempertahankan fitur penting dalam gambar.\n",
        "- **Fully Connected Layers**: Memungkinkan jaringan untuk membuat keputusan klasifikasi berdasarkan fitur yang diekstrak.\n",
        "\n",
        "LeNet adalah salah satu fondasi penting dalam pengembangan jaringan saraf convolutional (CNN) dan telah membuka jalan bagi arsitektur yang lebih kompleks seperti AlexNet, VGGNet, dan ResNet yang digunakan dalam berbagai aplikasi modern dalam computer vision."
      ],
      "metadata": {
        "id": "6d31T_sgaRnQ"
      }
    },
    {
      "cell_type": "markdown",
      "source": [
        "#Memuat Library"
      ],
      "metadata": {
        "id": "noSJCFf4aAtJ"
      }
    },
    {
      "cell_type": "code",
      "execution_count": 9,
      "metadata": {
        "id": "_yCzf_mTZS6O"
      },
      "outputs": [],
      "source": [
        "# Import Library yang diperlukan\n",
        "import keras\n",
        "from keras.datasets import mnist\n",
        "from keras.layers import Conv2D, MaxPooling2D\n",
        "from keras.layers import Dense, Flatten\n",
        "from keras.models import Sequential\n",
        "import matplotlib.pyplot as plt\n",
        "import numpy as np"
      ]
    },
    {
      "cell_type": "markdown",
      "source": [
        "#Memuat Dataset"
      ],
      "metadata": {
        "id": "dvx7XaiWaXup"
      }
    },
    {
      "cell_type": "code",
      "source": [
        "# Memuat Dataset dan melakukan Pemisahan Dataset (Train & Testing)\n",
        "(x_train, y_train), (x_test, y_test) = mnist.load_data()"
      ],
      "metadata": {
        "id": "hJ76fgzFaY3b"
      },
      "execution_count": 10,
      "outputs": []
    },
    {
      "cell_type": "markdown",
      "source": [
        "#Pra-Prosesan"
      ],
      "metadata": {
        "id": "rVUDjLNfacxy"
      }
    },
    {
      "cell_type": "code",
      "source": [
        "# Menjalankan Operasi Reshape\n",
        "x_train = x_train.reshape(x_train.shape[0], 28, 28, 1)\n",
        "x_test = x_test.reshape(x_test.shape[0], 28, 28, 1)\n",
        "\n",
        "# Normalisasi\n",
        "x_train = x_train / 255\n",
        "x_test = x_test / 255\n",
        "\n",
        "# One Hot Encoding\n",
        "y_train = keras.utils.to_categorical(y_train, 10)\n",
        "y_test = keras.utils.to_categorical(y_test, 10)"
      ],
      "metadata": {
        "id": "eotlgZY_abHx"
      },
      "execution_count": 11,
      "outputs": []
    },
    {
      "cell_type": "markdown",
      "source": [
        "#Arsitektur LeNet"
      ],
      "metadata": {
        "id": "qpaGm4bGaiG5"
      }
    },
    {
      "cell_type": "code",
      "source": [
        "# Membangun Arsitektur Model\n",
        "model = Sequential()\n",
        "model.add(Conv2D(6, kernel_size=(5, 5), activation='relu', input_shape=(28, 28, 1)))\n",
        "model.add(MaxPooling2D(pool_size=(2, 2)))\n",
        "model.add(Conv2D(16, kernel_size=(5, 5), activation='relu'))\n",
        "model.add(MaxPooling2D(pool_size=(2, 2)))\n",
        "model.add(Flatten())\n",
        "model.add(Dense(120, activation='relu'))\n",
        "model.add(Dense(84, activation='relu'))\n",
        "model.add(Dense(10, activation='softmax'))"
      ],
      "metadata": {
        "id": "9R12zoVjahmB"
      },
      "execution_count": 12,
      "outputs": []
    },
    {
      "cell_type": "markdown",
      "source": [
        "#Melatih Model"
      ],
      "metadata": {
        "id": "Bo4bO4R0amu_"
      }
    },
    {
      "cell_type": "code",
      "source": [
        "model.compile(loss=keras.metrics.categorical_crossentropy, optimizer=keras.optimizers.Adam(), metrics=['accuracy'])"
      ],
      "metadata": {
        "id": "Tt3a0HRhan_n"
      },
      "execution_count": 13,
      "outputs": []
    },
    {
      "cell_type": "code",
      "source": [
        "history = model.fit(x_train, y_train, batch_size=360, epochs=20, verbose=1, validation_data=(x_test, y_test))"
      ],
      "metadata": {
        "colab": {
          "base_uri": "https://localhost:8080/"
        },
        "id": "VnI3VF2aaqao",
        "outputId": "7e56672a-2f27-476c-cb7c-4a8f8c3d0cc0"
      },
      "execution_count": 14,
      "outputs": [
        {
          "output_type": "stream",
          "name": "stdout",
          "text": [
            "Epoch 1/20\n",
            "167/167 [==============================] - 27s 151ms/step - loss: 0.5743 - accuracy: 0.8426 - val_loss: 0.1707 - val_accuracy: 0.9489\n",
            "Epoch 2/20\n",
            "167/167 [==============================] - 23s 135ms/step - loss: 0.1456 - accuracy: 0.9562 - val_loss: 0.1075 - val_accuracy: 0.9668\n",
            "Epoch 3/20\n",
            "167/167 [==============================] - 18s 110ms/step - loss: 0.1023 - accuracy: 0.9691 - val_loss: 0.0819 - val_accuracy: 0.9740\n",
            "Epoch 4/20\n",
            "167/167 [==============================] - 20s 119ms/step - loss: 0.0814 - accuracy: 0.9750 - val_loss: 0.0637 - val_accuracy: 0.9786\n",
            "Epoch 5/20\n",
            "167/167 [==============================] - 18s 110ms/step - loss: 0.0681 - accuracy: 0.9792 - val_loss: 0.0547 - val_accuracy: 0.9819\n",
            "Epoch 6/20\n",
            "167/167 [==============================] - 20s 120ms/step - loss: 0.0602 - accuracy: 0.9816 - val_loss: 0.0466 - val_accuracy: 0.9843\n",
            "Epoch 7/20\n",
            "167/167 [==============================] - 19s 112ms/step - loss: 0.0526 - accuracy: 0.9838 - val_loss: 0.0426 - val_accuracy: 0.9861\n",
            "Epoch 8/20\n",
            "167/167 [==============================] - 18s 110ms/step - loss: 0.0472 - accuracy: 0.9856 - val_loss: 0.0451 - val_accuracy: 0.9845\n",
            "Epoch 9/20\n",
            "167/167 [==============================] - 19s 113ms/step - loss: 0.0444 - accuracy: 0.9862 - val_loss: 0.0414 - val_accuracy: 0.9875\n",
            "Epoch 10/20\n",
            "167/167 [==============================] - 18s 108ms/step - loss: 0.0389 - accuracy: 0.9873 - val_loss: 0.0385 - val_accuracy: 0.9886\n",
            "Epoch 11/20\n",
            "167/167 [==============================] - 19s 116ms/step - loss: 0.0374 - accuracy: 0.9882 - val_loss: 0.0392 - val_accuracy: 0.9866\n",
            "Epoch 12/20\n",
            "167/167 [==============================] - 18s 110ms/step - loss: 0.0334 - accuracy: 0.9897 - val_loss: 0.0326 - val_accuracy: 0.9884\n",
            "Epoch 13/20\n",
            "167/167 [==============================] - 18s 110ms/step - loss: 0.0310 - accuracy: 0.9904 - val_loss: 0.0369 - val_accuracy: 0.9874\n",
            "Epoch 14/20\n",
            "167/167 [==============================] - 20s 118ms/step - loss: 0.0276 - accuracy: 0.9914 - val_loss: 0.0316 - val_accuracy: 0.9902\n",
            "Epoch 15/20\n",
            "167/167 [==============================] - 18s 108ms/step - loss: 0.0259 - accuracy: 0.9918 - val_loss: 0.0337 - val_accuracy: 0.9885\n",
            "Epoch 16/20\n",
            "167/167 [==============================] - 21s 125ms/step - loss: 0.0227 - accuracy: 0.9929 - val_loss: 0.0302 - val_accuracy: 0.9896\n",
            "Epoch 17/20\n",
            "167/167 [==============================] - 18s 110ms/step - loss: 0.0214 - accuracy: 0.9934 - val_loss: 0.0349 - val_accuracy: 0.9881\n",
            "Epoch 18/20\n",
            "167/167 [==============================] - 18s 110ms/step - loss: 0.0210 - accuracy: 0.9933 - val_loss: 0.0307 - val_accuracy: 0.9890\n",
            "Epoch 19/20\n",
            "167/167 [==============================] - 19s 115ms/step - loss: 0.0192 - accuracy: 0.9937 - val_loss: 0.0318 - val_accuracy: 0.9886\n",
            "Epoch 20/20\n",
            "167/167 [==============================] - 18s 106ms/step - loss: 0.0175 - accuracy: 0.9945 - val_loss: 0.0306 - val_accuracy: 0.9897\n"
          ]
        }
      ]
    },
    {
      "cell_type": "markdown",
      "source": [
        "#Evaluasi Model"
      ],
      "metadata": {
        "id": "6eP9voteqWxS"
      }
    },
    {
      "cell_type": "code",
      "source": [
        "score = model.evaluate(x_test, y_test)\n",
        "print('Test Loss:', score[0])\n",
        "print('Test accuracy:', score[1])"
      ],
      "metadata": {
        "colab": {
          "base_uri": "https://localhost:8080/"
        },
        "id": "NZD9y9i5qT58",
        "outputId": "bd7bebfa-bc80-4d7e-87bd-6561b8562fba"
      },
      "execution_count": 15,
      "outputs": [
        {
          "output_type": "stream",
          "name": "stdout",
          "text": [
            "313/313 [==============================] - 1s 5ms/step - loss: 0.0306 - accuracy: 0.9897\n",
            "Test Loss: 0.030643487349152565\n",
            "Test accuracy: 0.9897000193595886\n"
          ]
        }
      ]
    },
    {
      "cell_type": "code",
      "source": [
        "# Total data training\n",
        "total_train_data = len(x_train)\n",
        "# Total data testing\n",
        "total_test_data = len(x_test)\n",
        "\n",
        "print(\"Total data training set:\", total_train_data)\n",
        "print(\"Total data testing set:\", total_test_data)"
      ],
      "metadata": {
        "colab": {
          "base_uri": "https://localhost:8080/"
        },
        "id": "LRcSEZD8usNC",
        "outputId": "e0652947-32bc-4f25-dee6-d0d0bf83cab9"
      },
      "execution_count": 16,
      "outputs": [
        {
          "output_type": "stream",
          "name": "stdout",
          "text": [
            "Total data training set: 60000\n",
            "Total data testing set: 10000\n"
          ]
        }
      ]
    },
    {
      "cell_type": "code",
      "source": [
        "# Predictions on training data\n",
        "train_predictions = model.predict(x_train)\n",
        "train_correct = sum([1 for i in range(len(train_predictions)) if np.argmax(train_predictions[i]) == np.argmax(y_train[i])])\n",
        "\n",
        "# Predictions on testing data\n",
        "test_predictions = model.predict(x_test)\n",
        "test_correct = sum([1 for i in range(len(test_predictions)) if np.argmax(test_predictions[i]) == np.argmax(y_test[i])])\n",
        "\n",
        "print(\"Total correct predictions training data:\", train_correct)\n",
        "print(\"Total correct predictions testing data:\", test_correct)"
      ],
      "metadata": {
        "colab": {
          "base_uri": "https://localhost:8080/"
        },
        "id": "9zKcdvQtuuei",
        "outputId": "4afed4ea-30f2-4b57-d9e7-8cd75a7d516d"
      },
      "execution_count": 17,
      "outputs": [
        {
          "output_type": "stream",
          "name": "stdout",
          "text": [
            "1875/1875 [==============================] - 11s 5ms/step\n",
            "313/313 [==============================] - 2s 6ms/step\n",
            "Total correct predictions training data: 59807\n",
            "Total correct predictions testing data: 9897\n"
          ]
        }
      ]
    },
    {
      "cell_type": "markdown",
      "source": [
        "#Visualisasi Model"
      ],
      "metadata": {
        "id": "3q55fduTuxiH"
      }
    },
    {
      "cell_type": "code",
      "source": [
        "# Plotting model accuracy\n",
        "plt.plot(history.history['accuracy'])\n",
        "plt.plot(history.history['val_accuracy'])\n",
        "plt.title('Model Accuracy')\n",
        "plt.ylabel('Accuracy')\n",
        "plt.xlabel('Epoch')\n",
        "plt.legend(['Train', 'Test'], loc='upper left')\n",
        "plt.show()\n",
        "\n",
        "# Plotting model loss\n",
        "plt.plot(history.history['loss'])\n",
        "plt.plot(history.history['val_loss'])\n",
        "plt.title('Model Loss')\n",
        "plt.ylabel('Loss')\n",
        "plt.xlabel('Epoch')\n",
        "plt.legend(['Train', 'Test'], loc='upper right')\n",
        "plt.show()"
      ],
      "metadata": {
        "colab": {
          "base_uri": "https://localhost:8080/",
          "height": 927
        },
        "id": "s6otXF1Juzlz",
        "outputId": "651f2323-4786-41f6-88df-0b4aac11192e"
      },
      "execution_count": 18,
      "outputs": [
        {
          "output_type": "display_data",
          "data": {
            "text/plain": [
              "<Figure size 640x480 with 1 Axes>"
            ],
            "image/png": "[encoded data removed]"
          },
          "metadata": {}
        },
        {
          "output_type": "display_data",
          "data": {
            "text/plain": [
              "<Figure size 640x480 with 1 Axes>"
            ],
            "image/png": "[encoded data removed]"
          },
          "metadata": {}
        }
      ]
    }
  ]
}