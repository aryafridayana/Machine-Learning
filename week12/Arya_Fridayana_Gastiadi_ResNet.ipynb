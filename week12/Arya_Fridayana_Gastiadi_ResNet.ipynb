{
  "nbformat": 4,
  "nbformat_minor": 0,
  "metadata": {
    "colab": {
      "provenance": [],
      "gpuType": "T4",
      "include_colab_link": true
    },
    "kernelspec": {
      "name": "python3",
      "display_name": "Python 3"
    },
    "language_info": {
      "name": "python"
    },
    "accelerator": "GPU"
  },
  "cells": [
    {
      "cell_type": "markdown",
      "metadata": {
        "id": "view-in-github",
        "colab_type": "text"
      },
      "source": [
        "<a href=\"https://colab.research.google.com/github/aryafridayana/Machine-Learning/blob/Task-Week-12/week12/Arya_Fridayana_Gastiadi_ResNet.ipynb\" target=\"_parent\"><img src=\"https://colab.research.google.com/assets/colab-badge.svg\" alt=\"Open In Colab\"/></a>"
      ]
    },
    {
      "cell_type": "markdown",
      "source": [
        "Arya Fridayana Gastiadi\n",
        "\n",
        "1103210082\n",
        "\n",
        "Tugas: 12\n",
        "\n",
        "Model: CNN\n",
        "\n",
        "Referensi: https://d2l.ai/chapter_convolutional-modern/resnet.html"
      ],
      "metadata": {
        "id": "_rGGjKX4iL3-"
      }
    },
    {
      "cell_type": "markdown",
      "source": [
        "#Residual Networks (ResNet)\n",
        "\n"
      ],
      "metadata": {
        "id": "ZahHn45ajEwT"
      }
    },
    {
      "cell_type": "markdown",
      "source": [
        " ResNet adalah kemampuan merancang jaringan di mana penambahan lapisan membuat jaringan menjadi lebih ekspresif\n"
      ],
      "metadata": {
        "id": "-2BhTgUFi-Ds"
      }
    },
    {
      "cell_type": "markdown",
      "source": [
        "#Import modul"
      ],
      "metadata": {
        "id": "EO97HiOPiwEt"
      }
    },
    {
      "cell_type": "code",
      "execution_count": null,
      "metadata": {
        "colab": {
          "base_uri": "https://localhost:8080/"
        },
        "id": "xeerhm-SiKhz",
        "outputId": "af566c2d-c584-497b-ec96-b79c4a3ce0ec"
      },
      "outputs": [
        {
          "output_type": "stream",
          "name": "stdout",
          "text": [
            "Requirement already satisfied: d2l in /usr/local/lib/python3.10/dist-packages (1.0.3)\n",
            "Requirement already satisfied: jupyter==1.0.0 in /usr/local/lib/python3.10/dist-packages (from d2l) (1.0.0)\n",
            "Requirement already satisfied: numpy==1.23.5 in /usr/local/lib/python3.10/dist-packages (from d2l) (1.23.5)\n",
            "Requirement already satisfied: matplotlib==3.7.2 in /usr/local/lib/python3.10/dist-packages (from d2l) (3.7.2)\n",
            "Requirement already satisfied: matplotlib-inline==0.1.6 in /usr/local/lib/python3.10/dist-packages (from d2l) (0.1.6)\n",
            "Requirement already satisfied: requests==2.31.0 in /usr/local/lib/python3.10/dist-packages (from d2l) (2.31.0)\n",
            "Requirement already satisfied: pandas==2.0.3 in /usr/local/lib/python3.10/dist-packages (from d2l) (2.0.3)\n",
            "Requirement already satisfied: scipy==1.10.1 in /usr/local/lib/python3.10/dist-packages (from d2l) (1.10.1)\n",
            "Requirement already satisfied: notebook in /usr/local/lib/python3.10/dist-packages (from jupyter==1.0.0->d2l) (6.5.5)\n",
            "Requirement already satisfied: qtconsole in /usr/local/lib/python3.10/dist-packages (from jupyter==1.0.0->d2l) (5.5.2)\n",
            "Requirement already satisfied: jupyter-console in /usr/local/lib/python3.10/dist-packages (from jupyter==1.0.0->d2l) (6.1.0)\n",
            "Requirement already satisfied: nbconvert in /usr/local/lib/python3.10/dist-packages (from jupyter==1.0.0->d2l) (6.5.4)\n",
            "Requirement already satisfied: ipykernel in /usr/local/lib/python3.10/dist-packages (from jupyter==1.0.0->d2l) (5.5.6)\n",
            "Requirement already satisfied: ipywidgets in /usr/local/lib/python3.10/dist-packages (from jupyter==1.0.0->d2l) (7.7.1)\n",
            "Requirement already satisfied: contourpy>=1.0.1 in /usr/local/lib/python3.10/dist-packages (from matplotlib==3.7.2->d2l) (1.2.1)\n",
            "Requirement already satisfied: cycler>=0.10 in /usr/local/lib/python3.10/dist-packages (from matplotlib==3.7.2->d2l) (0.12.1)\n",
            "Requirement already satisfied: fonttools>=4.22.0 in /usr/local/lib/python3.10/dist-packages (from matplotlib==3.7.2->d2l) (4.52.4)\n",
            "Requirement already satisfied: kiwisolver>=1.0.1 in /usr/local/lib/python3.10/dist-packages (from matplotlib==3.7.2->d2l) (1.4.5)\n",
            "Requirement already satisfied: packaging>=20.0 in /usr/local/lib/python3.10/dist-packages (from matplotlib==3.7.2->d2l) (24.0)\n",
            "Requirement already satisfied: pillow>=6.2.0 in /usr/local/lib/python3.10/dist-packages (from matplotlib==3.7.2->d2l) (9.4.0)\n",
            "Requirement already satisfied: pyparsing<3.1,>=2.3.1 in /usr/local/lib/python3.10/dist-packages (from matplotlib==3.7.2->d2l) (3.0.9)\n",
            "Requirement already satisfied: python-dateutil>=2.7 in /usr/local/lib/python3.10/dist-packages (from matplotlib==3.7.2->d2l) (2.8.2)\n",
            "Requirement already satisfied: traitlets in /usr/local/lib/python3.10/dist-packages (from matplotlib-inline==0.1.6->d2l) (5.7.1)\n",
            "Requirement already satisfied: pytz>=2020.1 in /usr/local/lib/python3.10/dist-packages (from pandas==2.0.3->d2l) (2023.4)\n",
            "Requirement already satisfied: tzdata>=2022.1 in /usr/local/lib/python3.10/dist-packages (from pandas==2.0.3->d2l) (2024.1)\n",
            "Requirement already satisfied: charset-normalizer<4,>=2 in /usr/local/lib/python3.10/dist-packages (from requests==2.31.0->d2l) (3.3.2)\n",
            "Requirement already satisfied: idna<4,>=2.5 in /usr/local/lib/python3.10/dist-packages (from requests==2.31.0->d2l) (3.7)\n",
            "Requirement already satisfied: urllib3<3,>=1.21.1 in /usr/local/lib/python3.10/dist-packages (from requests==2.31.0->d2l) (2.0.7)\n",
            "Requirement already satisfied: certifi>=2017.4.17 in /usr/local/lib/python3.10/dist-packages (from requests==2.31.0->d2l) (2024.2.2)\n",
            "Requirement already satisfied: six>=1.5 in /usr/local/lib/python3.10/dist-packages (from python-dateutil>=2.7->matplotlib==3.7.2->d2l) (1.16.0)\n",
            "Requirement already satisfied: ipython-genutils in /usr/local/lib/python3.10/dist-packages (from ipykernel->jupyter==1.0.0->d2l) (0.2.0)\n",
            "Requirement already satisfied: ipython>=5.0.0 in /usr/local/lib/python3.10/dist-packages (from ipykernel->jupyter==1.0.0->d2l) (7.34.0)\n",
            "Requirement already satisfied: jupyter-client in /usr/local/lib/python3.10/dist-packages (from ipykernel->jupyter==1.0.0->d2l) (6.1.12)\n",
            "Requirement already satisfied: tornado>=4.2 in /usr/local/lib/python3.10/dist-packages (from ipykernel->jupyter==1.0.0->d2l) (6.3.3)\n",
            "Requirement already satisfied: widgetsnbextension~=3.6.0 in /usr/local/lib/python3.10/dist-packages (from ipywidgets->jupyter==1.0.0->d2l) (3.6.6)\n",
            "Requirement already satisfied: jupyterlab-widgets>=1.0.0 in /usr/local/lib/python3.10/dist-packages (from ipywidgets->jupyter==1.0.0->d2l) (3.0.11)\n",
            "Requirement already satisfied: prompt-toolkit!=3.0.0,!=3.0.1,<3.1.0,>=2.0.0 in /usr/local/lib/python3.10/dist-packages (from jupyter-console->jupyter==1.0.0->d2l) (3.0.45)\n",
            "Requirement already satisfied: pygments in /usr/local/lib/python3.10/dist-packages (from jupyter-console->jupyter==1.0.0->d2l) (2.16.1)\n",
            "Requirement already satisfied: lxml in /usr/local/lib/python3.10/dist-packages (from nbconvert->jupyter==1.0.0->d2l) (4.9.4)\n",
            "Requirement already satisfied: beautifulsoup4 in /usr/local/lib/python3.10/dist-packages (from nbconvert->jupyter==1.0.0->d2l) (4.12.3)\n",
            "Requirement already satisfied: bleach in /usr/local/lib/python3.10/dist-packages (from nbconvert->jupyter==1.0.0->d2l) (6.1.0)\n",
            "Requirement already satisfied: defusedxml in /usr/local/lib/python3.10/dist-packages (from nbconvert->jupyter==1.0.0->d2l) (0.7.1)\n",
            "Requirement already satisfied: entrypoints>=0.2.2 in /usr/local/lib/python3.10/dist-packages (from nbconvert->jupyter==1.0.0->d2l) (0.4)\n",
            "Requirement already satisfied: jinja2>=3.0 in /usr/local/lib/python3.10/dist-packages (from nbconvert->jupyter==1.0.0->d2l) (3.1.4)\n",
            "Requirement already satisfied: jupyter-core>=4.7 in /usr/local/lib/python3.10/dist-packages (from nbconvert->jupyter==1.0.0->d2l) (5.7.2)\n",
            "Requirement already satisfied: jupyterlab-pygments in /usr/local/lib/python3.10/dist-packages (from nbconvert->jupyter==1.0.0->d2l) (0.3.0)\n",
            "Requirement already satisfied: MarkupSafe>=2.0 in /usr/local/lib/python3.10/dist-packages (from nbconvert->jupyter==1.0.0->d2l) (2.1.5)\n",
            "Requirement already satisfied: mistune<2,>=0.8.1 in /usr/local/lib/python3.10/dist-packages (from nbconvert->jupyter==1.0.0->d2l) (0.8.4)\n",
            "Requirement already satisfied: nbclient>=0.5.0 in /usr/local/lib/python3.10/dist-packages (from nbconvert->jupyter==1.0.0->d2l) (0.10.0)\n",
            "Requirement already satisfied: nbformat>=5.1 in /usr/local/lib/python3.10/dist-packages (from nbconvert->jupyter==1.0.0->d2l) (5.10.4)\n",
            "Requirement already satisfied: pandocfilters>=1.4.1 in /usr/local/lib/python3.10/dist-packages (from nbconvert->jupyter==1.0.0->d2l) (1.5.1)\n",
            "Requirement already satisfied: tinycss2 in /usr/local/lib/python3.10/dist-packages (from nbconvert->jupyter==1.0.0->d2l) (1.3.0)\n",
            "Requirement already satisfied: pyzmq<25,>=17 in /usr/local/lib/python3.10/dist-packages (from notebook->jupyter==1.0.0->d2l) (24.0.1)\n",
            "Requirement already satisfied: argon2-cffi in /usr/local/lib/python3.10/dist-packages (from notebook->jupyter==1.0.0->d2l) (23.1.0)\n",
            "Requirement already satisfied: nest-asyncio>=1.5 in /usr/local/lib/python3.10/dist-packages (from notebook->jupyter==1.0.0->d2l) (1.6.0)\n",
            "Requirement already satisfied: Send2Trash>=1.8.0 in /usr/local/lib/python3.10/dist-packages (from notebook->jupyter==1.0.0->d2l) (1.8.3)\n",
            "Requirement already satisfied: terminado>=0.8.3 in /usr/local/lib/python3.10/dist-packages (from notebook->jupyter==1.0.0->d2l) (0.18.1)\n",
            "Requirement already satisfied: prometheus-client in /usr/local/lib/python3.10/dist-packages (from notebook->jupyter==1.0.0->d2l) (0.20.0)\n",
            "Requirement already satisfied: nbclassic>=0.4.7 in /usr/local/lib/python3.10/dist-packages (from notebook->jupyter==1.0.0->d2l) (1.1.0)\n",
            "Requirement already satisfied: qtpy>=2.4.0 in /usr/local/lib/python3.10/dist-packages (from qtconsole->jupyter==1.0.0->d2l) (2.4.1)\n",
            "Requirement already satisfied: setuptools>=18.5 in /usr/local/lib/python3.10/dist-packages (from ipython>=5.0.0->ipykernel->jupyter==1.0.0->d2l) (67.7.2)\n",
            "Requirement already satisfied: jedi>=0.16 in /usr/local/lib/python3.10/dist-packages (from ipython>=5.0.0->ipykernel->jupyter==1.0.0->d2l) (0.19.1)\n",
            "Requirement already satisfied: decorator in /usr/local/lib/python3.10/dist-packages (from ipython>=5.0.0->ipykernel->jupyter==1.0.0->d2l) (4.4.2)\n",
            "Requirement already satisfied: pickleshare in /usr/local/lib/python3.10/dist-packages (from ipython>=5.0.0->ipykernel->jupyter==1.0.0->d2l) (0.7.5)\n",
            "Requirement already satisfied: backcall in /usr/local/lib/python3.10/dist-packages (from ipython>=5.0.0->ipykernel->jupyter==1.0.0->d2l) (0.2.0)\n",
            "Requirement already satisfied: pexpect>4.3 in /usr/local/lib/python3.10/dist-packages (from ipython>=5.0.0->ipykernel->jupyter==1.0.0->d2l) (4.9.0)\n",
            "Requirement already satisfied: platformdirs>=2.5 in /usr/local/lib/python3.10/dist-packages (from jupyter-core>=4.7->nbconvert->jupyter==1.0.0->d2l) (4.2.2)\n",
            "Requirement already satisfied: notebook-shim>=0.2.3 in /usr/local/lib/python3.10/dist-packages (from nbclassic>=0.4.7->notebook->jupyter==1.0.0->d2l) (0.2.4)\n",
            "Requirement already satisfied: fastjsonschema>=2.15 in /usr/local/lib/python3.10/dist-packages (from nbformat>=5.1->nbconvert->jupyter==1.0.0->d2l) (2.19.1)\n",
            "Requirement already satisfied: jsonschema>=2.6 in /usr/local/lib/python3.10/dist-packages (from nbformat>=5.1->nbconvert->jupyter==1.0.0->d2l) (4.19.2)\n",
            "Requirement already satisfied: wcwidth in /usr/local/lib/python3.10/dist-packages (from prompt-toolkit!=3.0.0,!=3.0.1,<3.1.0,>=2.0.0->jupyter-console->jupyter==1.0.0->d2l) (0.2.13)\n",
            "Requirement already satisfied: ptyprocess in /usr/local/lib/python3.10/dist-packages (from terminado>=0.8.3->notebook->jupyter==1.0.0->d2l) (0.7.0)\n",
            "Requirement already satisfied: argon2-cffi-bindings in /usr/local/lib/python3.10/dist-packages (from argon2-cffi->notebook->jupyter==1.0.0->d2l) (21.2.0)\n",
            "Requirement already satisfied: soupsieve>1.2 in /usr/local/lib/python3.10/dist-packages (from beautifulsoup4->nbconvert->jupyter==1.0.0->d2l) (2.5)\n",
            "Requirement already satisfied: webencodings in /usr/local/lib/python3.10/dist-packages (from bleach->nbconvert->jupyter==1.0.0->d2l) (0.5.1)\n",
            "Requirement already satisfied: parso<0.9.0,>=0.8.3 in /usr/local/lib/python3.10/dist-packages (from jedi>=0.16->ipython>=5.0.0->ipykernel->jupyter==1.0.0->d2l) (0.8.4)\n",
            "Requirement already satisfied: attrs>=22.2.0 in /usr/local/lib/python3.10/dist-packages (from jsonschema>=2.6->nbformat>=5.1->nbconvert->jupyter==1.0.0->d2l) (23.2.0)\n",
            "Requirement already satisfied: jsonschema-specifications>=2023.03.6 in /usr/local/lib/python3.10/dist-packages (from jsonschema>=2.6->nbformat>=5.1->nbconvert->jupyter==1.0.0->d2l) (2023.12.1)\n",
            "Requirement already satisfied: referencing>=0.28.4 in /usr/local/lib/python3.10/dist-packages (from jsonschema>=2.6->nbformat>=5.1->nbconvert->jupyter==1.0.0->d2l) (0.35.1)\n",
            "Requirement already satisfied: rpds-py>=0.7.1 in /usr/local/lib/python3.10/dist-packages (from jsonschema>=2.6->nbformat>=5.1->nbconvert->jupyter==1.0.0->d2l) (0.18.1)\n",
            "Requirement already satisfied: jupyter-server<3,>=1.8 in /usr/local/lib/python3.10/dist-packages (from notebook-shim>=0.2.3->nbclassic>=0.4.7->notebook->jupyter==1.0.0->d2l) (1.24.0)\n",
            "Requirement already satisfied: cffi>=1.0.1 in /usr/local/lib/python3.10/dist-packages (from argon2-cffi-bindings->argon2-cffi->notebook->jupyter==1.0.0->d2l) (1.16.0)\n",
            "Requirement already satisfied: pycparser in /usr/local/lib/python3.10/dist-packages (from cffi>=1.0.1->argon2-cffi-bindings->argon2-cffi->notebook->jupyter==1.0.0->d2l) (2.22)\n",
            "Requirement already satisfied: anyio<4,>=3.1.0 in /usr/local/lib/python3.10/dist-packages (from jupyter-server<3,>=1.8->notebook-shim>=0.2.3->nbclassic>=0.4.7->notebook->jupyter==1.0.0->d2l) (3.7.1)\n",
            "Requirement already satisfied: websocket-client in /usr/local/lib/python3.10/dist-packages (from jupyter-server<3,>=1.8->notebook-shim>=0.2.3->nbclassic>=0.4.7->notebook->jupyter==1.0.0->d2l) (1.8.0)\n",
            "Requirement already satisfied: sniffio>=1.1 in /usr/local/lib/python3.10/dist-packages (from anyio<4,>=3.1.0->jupyter-server<3,>=1.8->notebook-shim>=0.2.3->nbclassic>=0.4.7->notebook->jupyter==1.0.0->d2l) (1.3.1)\n",
            "Requirement already satisfied: exceptiongroup in /usr/local/lib/python3.10/dist-packages (from anyio<4,>=3.1.0->jupyter-server<3,>=1.8->notebook-shim>=0.2.3->nbclassic>=0.4.7->notebook->jupyter==1.0.0->d2l) (1.2.1)\n"
          ]
        }
      ],
      "source": [
        "!pip install d2l\n",
        "# Perintah ini digunakan untuk menginstal paket d2l\n",
        "# Paket ini menyediakan berbagai utilitas dan fungsi yang membantu dalam belajar dan mengimplementasikan konsep-konsep pembelajaran mendalam dengan PyTorch.\n"
      ]
    },
    {
      "cell_type": "code",
      "source": [
        "import torch\n",
        "# library utama untuk komputasi tensor dan pembelajaran mendalam (deep learning) menggunakan PyTorch. Library ini menyediakan berbagai fungsi untuk operasi matematika dan manipulasi tensor.\n",
        "from torch import nn\n",
        "# digunakan untuk membangun dan melatih jaringan saraf, seperti lapisan jaringan saraf (layers), fungsi aktivasi, dan fungsi kerugian (loss functions).\n",
        "import d2l.torch as d2l\n",
        "# menyediakan berbagai fungsi dan utilitas yang membantu dalam pembelajaran mendalam menggunakan PyTorch. Modul ini mencakup fungsi untuk visualisasi, pemrosesan data, dan banyak lagi.\n",
        "from torch.nn import functional as F\n",
        "# berisi berbagai fungsi yang digunakan dalam membangun dan menjalankan jaringan saraf (neural networks). Fungsi-fungsi ini mencakup berbagai operasi yang sering digunakan dalam deep learning, seperti aktivasi, kehilangan (loss), dan operasi konvolusi.\n"
      ],
      "metadata": {
        "id": "oMdRAh7kjKZp"
      },
      "execution_count": null,
      "outputs": []
    },
    {
      "cell_type": "markdown",
      "source": [
        "#Residual Blocks"
      ],
      "metadata": {
        "id": "lIa8jOyljmlU"
      }
    },
    {
      "cell_type": "markdown",
      "source": [
        "ResNet memiliki VGG yang lengkap 3 X 3\n",
        "desain lapisan konvolusional. Blok sisa memiliki dua 3 X 3\n",
        "lapisan konvolusional dengan jumlah saluran keluaran yang sama. Setiap lapisan konvolusional diikuti oleh lapisan normalisasi batch dan fungsi aktivasi ULT. Kemudian, dengan melewati dua operasi konvolusi ini dan menambahkan input langsung sebelum fungsi aktivasi ULT terakhir. Desain seperti ini mengharuskan keluaran dari dua lapisan konvolusional harus memiliki bentuk yang sama dengan masukan, sehingga keduanya dapat dijumlahkan. Jika kita ingin mengubah jumlah saluran, perlu menambahkan saluran tambahan 1 X 1\n",
        "lapisan konvolusional untuk mengubah masukan menjadi bentuk yang diinginkan untuk operasi penjumlahan."
      ],
      "metadata": {
        "id": "VlNXZNEYkwtR"
      }
    },
    {
      "cell_type": "code",
      "source": [
        "class Residual(nn.Module):\n",
        "  # Mendefinisikan kelas Residual yang merupakan subclass dari nn.Module\n",
        "    def __init__(self, num_channels, use_1x1conv=False, strides=1):\n",
        "      # Inisialisasi kelas dengan parameter jumlah channel, penggunaan konvolusi 1x1, dan langkah (stride)\n",
        "        super().__init__()\n",
        "        # Memanggil konstruktor dari nn.Module\n",
        "\n",
        "        self.conv1 = nn.LazyConv2d(num_channels, kernel_size=3, padding=1,\n",
        "                                   stride=strides)\n",
        "        # Definisi konvolusi pertama dengan kernel 3x3, padding 1, dan langkah sesuai parameter\n",
        "\n",
        "        self.conv2 = nn.LazyConv2d(num_channels, kernel_size=3, padding=1)\n",
        "        if use_1x1conv:\n",
        "          # Definisi konvolusi kedua dengan kernel 3x3 dan padding 1\n",
        "\n",
        "            self.conv3 = nn.LazyConv2d(num_channels, kernel_size=1,\n",
        "                                       stride=strides)\n",
        "            #  Definisi konvolusi ketiga dengan kernel 1x1 dan langkah sesuai parameter\n",
        "\n",
        "        else:\n",
        "          # Jika penggunaan konvolusi 1x1 tidak diaktifkan\n",
        "            self.conv3 = None\n",
        "            # Konvolusi ketiga tidak digunakan\n",
        "        self.bn1 = nn.LazyBatchNorm2d()\n",
        "        # Definisi batch normalization pertama\n",
        "        self.bn2 = nn.LazyBatchNorm2d()\n",
        "        # Definisi batch normalization kedua\n",
        "\n",
        "    def forward(self, X):\n",
        "      # Definisi metode forward untuk menjalankan data melalui lapisan-lapisan jaringan\n",
        "        Y = F.relu(self.bn1(self.conv1(X)))\n",
        "        # Proses input X melalui konvolusi pertama, batch normalization, dan fungsi aktivasi ReLU\n",
        "        Y = self.bn2(self.conv2(Y))\n",
        "        # Proses hasil Y melalui konvolusi kedua dan batch normalization\n",
        "        if self.conv3:\n",
        "          # Jika konvolusi ketiga digunakan\n",
        "            X = self.conv3(X)\n",
        "            # Proses input X melalui konvolusi ketiga\n",
        "        Y += X\n",
        "        # Tambahkan input asli X ke hasil Y\n",
        "        return F.relu(Y)\n",
        "        # Kembalikan hasil dengan fungsi aktivasi ReLU"
      ],
      "metadata": {
        "id": "IfRD4Xb0jppt"
      },
      "execution_count": null,
      "outputs": []
    },
    {
      "cell_type": "markdown",
      "source": [
        "Kode ini menghasilkan dua jenis jaringan: satu di mana kita menambahkan masukan ke keluaran sebelum menerapkan nonlinier ULT kapan pun use_1x1conv=False; dan yang mana kami menyesuaikan saluran dan resolusi melalui a 1 X 1\n",
        "konvolusi sebelum menambahkan."
      ],
      "metadata": {
        "id": "rVQ1bYmQy8JO"
      }
    },
    {
      "cell_type": "markdown",
      "source": [
        "Sekarang akan melihat situasi dimana input dan output memiliki bentuk yang sama, dimana konvolusi tidak diperlukan."
      ],
      "metadata": {
        "id": "O8gUVpLxzSCW"
      }
    },
    {
      "cell_type": "code",
      "source": [
        "blk = Residual(3)\n",
        " # Membuat instance dari blok residu dengan input channel sebanyak 3\n",
        "X = torch.randn(4, 3, 6, 6)\n",
        "# Membuat tensor acak dengan bentuk (batch_size=4, channels=3, height=6, width=6)\n",
        "blk(X).shape\n",
        "# Mendapatkan bentuk keluaran dari tensor setelah melewati blok residu"
      ],
      "metadata": {
        "colab": {
          "base_uri": "https://localhost:8080/"
        },
        "id": "2dCOfPwdkAoE",
        "outputId": "3db4fe45-a769-4ccf-d4b5-b18d16c9b8c6"
      },
      "execution_count": null,
      "outputs": [
        {
          "output_type": "execute_result",
          "data": {
            "text/plain": [
              "torch.Size([4, 3, 6, 6])"
            ]
          },
          "metadata": {},
          "execution_count": 22
        }
      ]
    },
    {
      "cell_type": "code",
      "source": [
        "torch.Size([4, 3, 6, 6])\n",
        "# Mendefinisikan ukuran tensor di PyTorch"
      ],
      "metadata": {
        "colab": {
          "base_uri": "https://localhost:8080/"
        },
        "id": "IMJ1Rjm7zrlK",
        "outputId": "68277fdf-e1a5-49e4-c3d4-db086a52c0ea"
      },
      "execution_count": null,
      "outputs": [
        {
          "output_type": "execute_result",
          "data": {
            "text/plain": [
              "torch.Size([4, 3, 6, 6])"
            ]
          },
          "metadata": {},
          "execution_count": 24
        }
      ]
    },
    {
      "cell_type": "markdown",
      "source": [
        "opsi untuk mengurangi separuh tinggi dan lebar keluaran sekaligus menambah jumlah saluran keluaran. Dalam hal ini kami menggunakan 1 X 1\n",
        "konvolusi melalui use_1x1conv=True. Ini berguna di awal setiap blok ResNet untuk mengurangi dimensi spasial melalui strides=2."
      ],
      "metadata": {
        "id": "WvavTkXKz-Wc"
      }
    },
    {
      "cell_type": "code",
      "source": [
        "blk = Residual(6, use_1x1conv=True, strides=2)\n",
        "# Membuat instance dari blok residual dengan parameter input 6, menggunakan konvolusi 1x1 untuk menyesuaikan dimensi, dan strides 2\n",
        "blk(X).shape\n",
        "# Memanggil blok residual blk dengan input X dan mendapatkan bentuk (shape) dari outputnya"
      ],
      "metadata": {
        "colab": {
          "base_uri": "https://localhost:8080/"
        },
        "id": "yqdhxBEf0D_6",
        "outputId": "80c1400d-c14a-4992-d8ad-02db6d4942f5"
      },
      "execution_count": null,
      "outputs": [
        {
          "output_type": "execute_result",
          "data": {
            "text/plain": [
              "torch.Size([4, 6, 3, 3])"
            ]
          },
          "metadata": {},
          "execution_count": 26
        }
      ]
    },
    {
      "cell_type": "markdown",
      "source": [
        "#ResNet Model"
      ],
      "metadata": {
        "id": "Hm6lJ0IHtAkO"
      }
    },
    {
      "cell_type": "markdown",
      "source": [
        "Dua lapisan pertama ResNet sama dengan yang ada di GoogLeNet yang kami jelaskan sebelumnya: the 7 X 7\n",
        "lapisan konvolusional dengan 64 saluran keluaran dan langkah 2 diikuti oleh 3X3\n",
        " lapisan max-pooling dengan langkah 2. Perbedaannya adalah lapisan normalisasi batch ditambahkan setelah setiap lapisan konvolusional di ResNet."
      ],
      "metadata": {
        "id": "NT3qwgmY0X3a"
      }
    },
    {
      "cell_type": "code",
      "source": [
        "class ResNet(d2l.Classifier):\n",
        "  # Mendefinisikan kelas ResNet yang merupakan subclass dari d2l.Classifier\n",
        "    def b1(self):\n",
        "      # Mendefinisikan metode b1 dalam kelas ResNet\n",
        "        return nn.Sequential(\n",
        "            # Mengembalikan urutan layer-layer menggunakan nn.Sequential\n",
        "            nn.LazyConv2d(64, kernel_size=7, stride=2, padding=3),\n",
        "            # Layer konvolusi dengan 64 filter, ukuran kernel 7x7, stride 2, dan padding 3\n",
        "            nn.LazyBatchNorm2d(), nn.ReLU(),\n",
        "            # Layer Batch Normalization yang menyesuaikan ukuran secara otomatis\n",
        "            nn.MaxPool2d(kernel_size=3, stride=2, padding=1))\n",
        "             # Layer MaxPooling dengan ukuran kernel 3x3, stride 2, dan padding 1\n"
      ],
      "metadata": {
        "id": "nSxwAHVIkPSj"
      },
      "execution_count": null,
      "outputs": []
    },
    {
      "cell_type": "markdown",
      "source": [
        "GoogLeNet menggunakan empat modul yang terdiri dari blok Inception. Namun, ResNet menggunakan empat modul yang terdiri dari blok sisa, yang masing-masing menggunakan beberapa blok sisa dengan jumlah saluran keluaran yang sama. Jumlah saluran pada modul pertama sama dengan jumlah saluran masukan. Karena lapisan max-pooling dengan langkah 2 telah digunakan, maka tidak perlu mengurangi tinggi dan lebarnya. Di blok sisa pertama untuk setiap modul berikutnya, jumlah saluran menjadi dua kali lipat dibandingkan modul sebelumnya, dan tinggi serta lebarnya dibelah dua."
      ],
      "metadata": {
        "id": "xhRinPA907BD"
      }
    },
    {
      "cell_type": "code",
      "source": [
        "@d2l.add_to_class(ResNet)\n",
        "# Menambahkan metode baru dalam kelas ResNet dari modul d2l\n",
        "def block(self, num_residuals, num_channels, first_block=False):\n",
        "  # Mendefinisikan metode block dalam kelas ResNet\n",
        "    blk = []\n",
        "    # Inisialisasi list kosong untuk menyimpan blok residual\n",
        "    for i in range(num_residuals):\n",
        "      # Looping sebanyak num_residuals kali\n",
        "        if i == 0 and not first_block:\n",
        "          # Jika iterasi pertama dan bukan blok pertama\n",
        "            blk.append(Residual(num_channels, use_1x1conv=True, strides=2))\n",
        "            # Tambahkan blok residual dengan konvolusi 1x1 dan strides 2\n",
        "        else:\n",
        "          # Jika bukan iterasi pertama atau merupakan blok pertama\n",
        "            blk.append(Residual(num_channels))\n",
        "            # Tambahkan blok residual tanpa konvolusi 1x1\n",
        "    return nn.Sequential(*blk)\n",
        "    # Mengembalikan urutan blok residual menggunakan nn.Sequential"
      ],
      "metadata": {
        "id": "j35-ILK_kQzl"
      },
      "execution_count": null,
      "outputs": []
    },
    {
      "cell_type": "markdown",
      "source": [
        "Kemudian, menambahkan semua modul ke ResNet. Di sini, dua blok sisa digunakan untuk setiap modul. Terakhir, seperti GoogLeNet, kemudian menambahkan lapisan pengumpulan rata-rata global, diikuti dengan keluaran lapisan yang terhubung sepenuhnya."
      ],
      "metadata": {
        "id": "QAaZzhP4tVDe"
      }
    },
    {
      "cell_type": "code",
      "source": [
        "@d2l.add_to_class(ResNet)\n",
        "# fungsi sebagai metode konstruktor untuk ResNetkelas\n",
        "def __init__(self, arch, lr=0.1, num_classes=10):\n",
        "  # mendefinisikan metode konstruktor ( __init__) untuk ResNetkelas\n",
        "    super(ResNet, self).__init__()\n",
        "    # memanggil konstruktor kelas induk ( super), yang kemungkinan merupakan nn.Modulekelas di sebagian besar perpustakaan pembelajaran mendalam.\n",
        "    self.save_hyperparameters()\n",
        "    # menyimpan hyperparameter (kecepatan pembelajaran dan jumlah kelas) yang diteruskan ke konstruktor untuk digunakan nanti.\n",
        "    self.net = nn.Sequential(self.b1())\n",
        "    #  membuat wadah berurutan (nn.Sequential) untuk menampung lapisan model ResNet\n",
        "    for i, b in enumerate(arch):\n",
        "      # Perulangan ini mengulangiarchlist (arsitektur model) untuk membuat dan menambahkan sisa blok yang tersisa keself.netwadah berurutan.\n",
        "        self.net.add_module(f'b{i+2}', self.block(*b, first_block=(i==0)))\n",
        "        # menambahkan modul baru keself.netwadah.\n",
        "    self.net.add_module('last', nn.Sequential(\n",
        "        # Setelah menambahkan blok sisa,baris ini menambahkan wadah berurutan terakhir yang diberi nama\"last\"keself.netwadah.Urutan ini mendefinisikan lapisan keluaran model\n",
        "        nn.AdaptiveAvgPool2d((1, 1)), nn.Flatten(),\n",
        "        nn.LazyLinear(num_classes)))\n",
        "    self.net.apply(d2l.init_cnn)"
      ],
      "metadata": {
        "id": "YPp5CncekSj1"
      },
      "execution_count": null,
      "outputs": []
    },
    {
      "cell_type": "markdown",
      "source": [
        "Meskipun arsitektur utama ResNet mirip dengan GoogLeNet, struktur ResNet lebih sederhana dan mudah dimodifikasi. Semua faktor ini mengakibatkan penggunaan ResNet secara cepat dan luas."
      ],
      "metadata": {
        "id": "nqisgOLatYRn"
      }
    },
    {
      "cell_type": "markdown",
      "source": [
        "Sebelum melatih ResNet, mari amati bagaimana bentuk masukan berubah di berbagai modul di ResNet. Seperti pada semua arsitektur sebelumnya, resolusi menurun sementara jumlah saluran meningkat hingga titik di mana lapisan pengumpulan rata-rata global menggabungkan semua fitur."
      ],
      "metadata": {
        "id": "n6cv5e7h2ghm"
      }
    },
    {
      "cell_type": "code",
      "source": [
        "class ResNet18(ResNet):\n",
        "  # mendefinisikan nama kelas baru ResNet18yang mewarisi dari ResNetkelas tersebut.\n",
        "    def __init__(self, lr=0.1, num_classes=10):\n",
        "      # mendefinisikan konstruktor (metode inisialisasi) untuk ResNet18kelas. Dibutuhkan dua argumen\n",
        "        super().__init__(((2, 64), (2, 128), (2, 256), (2, 512)),\n",
        "         # Baris ini memanggil __init__metode kelas induk ( ResNet) untuk menginisialisasi ResNet18objek. Ini melewati tiga argumen\n",
        "                       lr, num_classes)\n",
        "                        # umlah kelas keluaran yang diteruskan dari konstruktor.\n",
        "\n",
        "ResNet18().layer_summary((1, 1, 96, 96))\n",
        "# Metode ini diasumsikan mencetak ringkasan lapisan model, termasuk namanya, bentuk masukan dan keluaran, serta jumlah parameter."
      ],
      "metadata": {
        "colab": {
          "base_uri": "https://localhost:8080/"
        },
        "id": "gHFMwa9QkUp6",
        "outputId": "c9ad817f-200f-4420-e041-95678946affe"
      },
      "execution_count": null,
      "outputs": [
        {
          "output_type": "stream",
          "name": "stdout",
          "text": [
            "Sequential output shape:\t torch.Size([1, 64, 24, 24])\n",
            "Sequential output shape:\t torch.Size([1, 64, 24, 24])\n",
            "Sequential output shape:\t torch.Size([1, 128, 12, 12])\n",
            "Sequential output shape:\t torch.Size([1, 256, 6, 6])\n",
            "Sequential output shape:\t torch.Size([1, 512, 3, 3])\n",
            "Sequential output shape:\t torch.Size([1, 10])\n"
          ]
        }
      ]
    },
    {
      "cell_type": "markdown",
      "source": [
        "#Training"
      ],
      "metadata": {
        "id": "B7LaA2tEkY6D"
      }
    },
    {
      "cell_type": "markdown",
      "source": [
        "Melatih ResNet pada kumpulan data Fashion-MNIST, sama seperti sebelumnya. ResNet adalah arsitektur yang cukup kuat dan fleksibel. Plot yang mencatat kerugian pelatihan dan validasi menggambarkan kesenjangan yang signifikan antara kedua grafik, dengan kerugian pelatihan yang jauh lebih rendah. Untuk jaringan dengan fleksibilitas ini, lebih banyak data pelatihan akan memberikan manfaat nyata dalam menutup kesenjangan dan meningkatkan akurasi."
      ],
      "metadata": {
        "id": "baDiO1aq3M1b"
      }
    },
    {
      "cell_type": "code",
      "source": [
        "model = ResNet18(lr=0.01)\n",
        "trainer = d2l.Trainer(max_epochs=10, num_gpus=1)\n",
        "data = d2l.FashionMNIST(batch_size=128, resize=(96, 96))\n",
        "model.apply_init([next(iter(data.get_dataloader(True)))[0]], d2l.init_cnn)\n",
        "trainer.fit(model, data)"
      ],
      "metadata": {
        "colab": {
          "base_uri": "https://localhost:8080/",
          "height": 265
        },
        "id": "tKFU0GJ6kZnr",
        "outputId": "7e3ce343-5284-4bf5-e001-d8988fcbea37"
      },
      "execution_count": null,
      "outputs": [
        {
          "output_type": "display_data",
          "data": {
            "text/plain": [
              "<Figure size 350x250 with 1 Axes>"
            ],
            "image/svg+xml": "<?xml version=\"1.0\" encoding=\"utf-8\" standalone=\"no\"?>\n<!DOCTYPE svg PUBLIC \"-//W3C//DTD SVG 1.1//EN\"\n  \"http://www.w3.org/Graphics/SVG/1.1/DTD/svg11.dtd\">\n<svg xmlns:xlink=\"http://www.w3.org/1999/xlink\" width=\"238.965625pt\" height=\"183.35625pt\" viewBox=\"0 0 238.965625 183.35625\" xmlns=\"http://www.w3.org/2000/svg\" version=\"1.1\">\n <metadata>\n  <rdf:RDF xmlns:dc=\"http://purl.org/dc/elements/1.1/\" xmlns:cc=\"http://creativecommons.org/ns#\" xmlns:rdf=\"http://www.w3.org/1999/02/22-rdf-syntax-ns#\">\n   <cc:Work>\n    <dc:type rdf:resource=\"http://purl.org/dc/dcmitype/StillImage\"/>\n    <dc:date>2024-06-04T10:53:07.965621</dc:date>\n    <dc:format>image/svg+xml</dc:format>\n    <dc:creator>\n     <cc:Agent>\n      <dc:title>Matplotlib v3.7.2, https://matplotlib.org/</dc:title>\n     </cc:Agent>\n    </dc:creator>\n   </cc:Work>\n  </rdf:RDF>\n </metadata>\n <defs>\n  <style type=\"text/css\">*{stroke-linejoin: round; stroke-linecap: butt}</style>\n </defs>\n <g id=\"figure_1\">\n  <g id=\"patch_1\">\n   <path d=\"M 0 183.35625 \nL 238.965625 183.35625 \nL 238.965625 0 \nL 0 0 \nz\n\" style=\"fill: #ffffff\"/>\n  </g>\n  <g id=\"axes_1\">\n   <g id=\"patch_2\">\n    <path d=\"M 30.103125 145.8 \nL 225.403125 145.8 \nL 225.403125 7.2 \nL 30.103125 7.2 \nz\n\" style=\"fill: #ffffff\"/>\n   </g>\n   <g id=\"matplotlib.axis_1\">\n    <g id=\"xtick_1\">\n     <g id=\"line2d_1\">\n      <defs>\n       <path id=\"m4a238742a2\" d=\"M 0 0 \nL 0 3.5 \n\" style=\"stroke: #000000; stroke-width: 0.8\"/>\n      </defs>\n      <g>\n       <use xlink:href=\"#m4a238742a2\" x=\"30.103125\" y=\"145.8\" style=\"stroke: #000000; stroke-width: 0.8\"/>\n      </g>\n     </g>\n     <g id=\"text_1\">\n      <!-- 0 -->\n      <g transform=\"translate(26.921875 160.398438) scale(0.1 -0.1)\">\n       <defs>\n        <path id=\"DejaVuSans-30\" d=\"M 2034 4250 \nQ 1547 4250 1301 3770 \nQ 1056 3291 1056 2328 \nQ 1056 1369 1301 889 \nQ 1547 409 2034 409 \nQ 2525 409 2770 889 \nQ 3016 1369 3016 2328 \nQ 3016 3291 2770 3770 \nQ 2525 4250 2034 4250 \nz\nM 2034 4750 \nQ 2819 4750 3233 4129 \nQ 3647 3509 3647 2328 \nQ 3647 1150 3233 529 \nQ 2819 -91 2034 -91 \nQ 1250 -91 836 529 \nQ 422 1150 422 2328 \nQ 422 3509 836 4129 \nQ 1250 4750 2034 4750 \nz\n\" transform=\"scale(0.015625)\"/>\n       </defs>\n       <use xlink:href=\"#DejaVuSans-30\"/>\n      </g>\n     </g>\n    </g>\n    <g id=\"xtick_2\">\n     <g id=\"line2d_2\">\n      <g>\n       <use xlink:href=\"#m4a238742a2\" x=\"69.163125\" y=\"145.8\" style=\"stroke: #000000; stroke-width: 0.8\"/>\n      </g>\n     </g>\n     <g id=\"text_2\">\n      <!-- 2 -->\n      <g transform=\"translate(65.981875 160.398438) scale(0.1 -0.1)\">\n       <defs>\n        <path id=\"DejaVuSans-32\" d=\"M 1228 531 \nL 3431 531 \nL 3431 0 \nL 469 0 \nL 469 531 \nQ 828 903 1448 1529 \nQ 2069 2156 2228 2338 \nQ 2531 2678 2651 2914 \nQ 2772 3150 2772 3378 \nQ 2772 3750 2511 3984 \nQ 2250 4219 1831 4219 \nQ 1534 4219 1204 4116 \nQ 875 4013 500 3803 \nL 500 4441 \nQ 881 4594 1212 4672 \nQ 1544 4750 1819 4750 \nQ 2544 4750 2975 4387 \nQ 3406 4025 3406 3419 \nQ 3406 3131 3298 2873 \nQ 3191 2616 2906 2266 \nQ 2828 2175 2409 1742 \nQ 1991 1309 1228 531 \nz\n\" transform=\"scale(0.015625)\"/>\n       </defs>\n       <use xlink:href=\"#DejaVuSans-32\"/>\n      </g>\n     </g>\n    </g>\n    <g id=\"xtick_3\">\n     <g id=\"line2d_3\">\n      <g>\n       <use xlink:href=\"#m4a238742a2\" x=\"108.223125\" y=\"145.8\" style=\"stroke: #000000; stroke-width: 0.8\"/>\n      </g>\n     </g>\n     <g id=\"text_3\">\n      <!-- 4 -->\n      <g transform=\"translate(105.041875 160.398438) scale(0.1 -0.1)\">\n       <defs>\n        <path id=\"DejaVuSans-34\" d=\"M 2419 4116 \nL 825 1625 \nL 2419 1625 \nL 2419 4116 \nz\nM 2253 4666 \nL 3047 4666 \nL 3047 1625 \nL 3713 1625 \nL 3713 1100 \nL 3047 1100 \nL 3047 0 \nL 2419 0 \nL 2419 1100 \nL 313 1100 \nL 313 1709 \nL 2253 4666 \nz\n\" transform=\"scale(0.015625)\"/>\n       </defs>\n       <use xlink:href=\"#DejaVuSans-34\"/>\n      </g>\n     </g>\n    </g>\n    <g id=\"xtick_4\">\n     <g id=\"line2d_4\">\n      <g>\n       <use xlink:href=\"#m4a238742a2\" x=\"147.283125\" y=\"145.8\" style=\"stroke: #000000; stroke-width: 0.8\"/>\n      </g>\n     </g>\n     <g id=\"text_4\">\n      <!-- 6 -->\n      <g transform=\"translate(144.101875 160.398438) scale(0.1 -0.1)\">\n       <defs>\n        <path id=\"DejaVuSans-36\" d=\"M 2113 2584 \nQ 1688 2584 1439 2293 \nQ 1191 2003 1191 1497 \nQ 1191 994 1439 701 \nQ 1688 409 2113 409 \nQ 2538 409 2786 701 \nQ 3034 994 3034 1497 \nQ 3034 2003 2786 2293 \nQ 2538 2584 2113 2584 \nz\nM 3366 4563 \nL 3366 3988 \nQ 3128 4100 2886 4159 \nQ 2644 4219 2406 4219 \nQ 1781 4219 1451 3797 \nQ 1122 3375 1075 2522 \nQ 1259 2794 1537 2939 \nQ 1816 3084 2150 3084 \nQ 2853 3084 3261 2657 \nQ 3669 2231 3669 1497 \nQ 3669 778 3244 343 \nQ 2819 -91 2113 -91 \nQ 1303 -91 875 529 \nQ 447 1150 447 2328 \nQ 447 3434 972 4092 \nQ 1497 4750 2381 4750 \nQ 2619 4750 2861 4703 \nQ 3103 4656 3366 4563 \nz\n\" transform=\"scale(0.015625)\"/>\n       </defs>\n       <use xlink:href=\"#DejaVuSans-36\"/>\n      </g>\n     </g>\n    </g>\n    <g id=\"xtick_5\">\n     <g id=\"line2d_5\">\n      <g>\n       <use xlink:href=\"#m4a238742a2\" x=\"186.343125\" y=\"145.8\" style=\"stroke: #000000; stroke-width: 0.8\"/>\n      </g>\n     </g>\n     <g id=\"text_5\">\n      <!-- 8 -->\n      <g transform=\"translate(183.161875 160.398438) scale(0.1 -0.1)\">\n       <defs>\n        <path id=\"DejaVuSans-38\" d=\"M 2034 2216 \nQ 1584 2216 1326 1975 \nQ 1069 1734 1069 1313 \nQ 1069 891 1326 650 \nQ 1584 409 2034 409 \nQ 2484 409 2743 651 \nQ 3003 894 3003 1313 \nQ 3003 1734 2745 1975 \nQ 2488 2216 2034 2216 \nz\nM 1403 2484 \nQ 997 2584 770 2862 \nQ 544 3141 544 3541 \nQ 544 4100 942 4425 \nQ 1341 4750 2034 4750 \nQ 2731 4750 3128 4425 \nQ 3525 4100 3525 3541 \nQ 3525 3141 3298 2862 \nQ 3072 2584 2669 2484 \nQ 3125 2378 3379 2068 \nQ 3634 1759 3634 1313 \nQ 3634 634 3220 271 \nQ 2806 -91 2034 -91 \nQ 1263 -91 848 271 \nQ 434 634 434 1313 \nQ 434 1759 690 2068 \nQ 947 2378 1403 2484 \nz\nM 1172 3481 \nQ 1172 3119 1398 2916 \nQ 1625 2713 2034 2713 \nQ 2441 2713 2670 2916 \nQ 2900 3119 2900 3481 \nQ 2900 3844 2670 4047 \nQ 2441 4250 2034 4250 \nQ 1625 4250 1398 4047 \nQ 1172 3844 1172 3481 \nz\n\" transform=\"scale(0.015625)\"/>\n       </defs>\n       <use xlink:href=\"#DejaVuSans-38\"/>\n      </g>\n     </g>\n    </g>\n    <g id=\"xtick_6\">\n     <g id=\"line2d_6\">\n      <g>\n       <use xlink:href=\"#m4a238742a2\" x=\"225.403125\" y=\"145.8\" style=\"stroke: #000000; stroke-width: 0.8\"/>\n      </g>\n     </g>\n     <g id=\"text_6\">\n      <!-- 10 -->\n      <g transform=\"translate(219.040625 160.398438) scale(0.1 -0.1)\">\n       <defs>\n        <path id=\"DejaVuSans-31\" d=\"M 794 531 \nL 1825 531 \nL 1825 4091 \nL 703 3866 \nL 703 4441 \nL 1819 4666 \nL 2450 4666 \nL 2450 531 \nL 3481 531 \nL 3481 0 \nL 794 0 \nL 794 531 \nz\n\" transform=\"scale(0.015625)\"/>\n       </defs>\n       <use xlink:href=\"#DejaVuSans-31\"/>\n       <use xlink:href=\"#DejaVuSans-30\" x=\"63.623047\"/>\n      </g>\n     </g>\n    </g>\n    <g id=\"text_7\">\n     <!-- epoch -->\n     <g transform=\"translate(112.525 174.076563) scale(0.1 -0.1)\">\n      <defs>\n       <path id=\"DejaVuSans-65\" d=\"M 3597 1894 \nL 3597 1613 \nL 953 1613 \nQ 991 1019 1311 708 \nQ 1631 397 2203 397 \nQ 2534 397 2845 478 \nQ 3156 559 3463 722 \nL 3463 178 \nQ 3153 47 2828 -22 \nQ 2503 -91 2169 -91 \nQ 1331 -91 842 396 \nQ 353 884 353 1716 \nQ 353 2575 817 3079 \nQ 1281 3584 2069 3584 \nQ 2775 3584 3186 3129 \nQ 3597 2675 3597 1894 \nz\nM 3022 2063 \nQ 3016 2534 2758 2815 \nQ 2500 3097 2075 3097 \nQ 1594 3097 1305 2825 \nQ 1016 2553 972 2059 \nL 3022 2063 \nz\n\" transform=\"scale(0.015625)\"/>\n       <path id=\"DejaVuSans-70\" d=\"M 1159 525 \nL 1159 -1331 \nL 581 -1331 \nL 581 3500 \nL 1159 3500 \nL 1159 2969 \nQ 1341 3281 1617 3432 \nQ 1894 3584 2278 3584 \nQ 2916 3584 3314 3078 \nQ 3713 2572 3713 1747 \nQ 3713 922 3314 415 \nQ 2916 -91 2278 -91 \nQ 1894 -91 1617 61 \nQ 1341 213 1159 525 \nz\nM 3116 1747 \nQ 3116 2381 2855 2742 \nQ 2594 3103 2138 3103 \nQ 1681 3103 1420 2742 \nQ 1159 2381 1159 1747 \nQ 1159 1113 1420 752 \nQ 1681 391 2138 391 \nQ 2594 391 2855 752 \nQ 3116 1113 3116 1747 \nz\n\" transform=\"scale(0.015625)\"/>\n       <path id=\"DejaVuSans-6f\" d=\"M 1959 3097 \nQ 1497 3097 1228 2736 \nQ 959 2375 959 1747 \nQ 959 1119 1226 758 \nQ 1494 397 1959 397 \nQ 2419 397 2687 759 \nQ 2956 1122 2956 1747 \nQ 2956 2369 2687 2733 \nQ 2419 3097 1959 3097 \nz\nM 1959 3584 \nQ 2709 3584 3137 3096 \nQ 3566 2609 3566 1747 \nQ 3566 888 3137 398 \nQ 2709 -91 1959 -91 \nQ 1206 -91 779 398 \nQ 353 888 353 1747 \nQ 353 2609 779 3096 \nQ 1206 3584 1959 3584 \nz\n\" transform=\"scale(0.015625)\"/>\n       <path id=\"DejaVuSans-63\" d=\"M 3122 3366 \nL 3122 2828 \nQ 2878 2963 2633 3030 \nQ 2388 3097 2138 3097 \nQ 1578 3097 1268 2742 \nQ 959 2388 959 1747 \nQ 959 1106 1268 751 \nQ 1578 397 2138 397 \nQ 2388 397 2633 464 \nQ 2878 531 3122 666 \nL 3122 134 \nQ 2881 22 2623 -34 \nQ 2366 -91 2075 -91 \nQ 1284 -91 818 406 \nQ 353 903 353 1747 \nQ 353 2603 823 3093 \nQ 1294 3584 2113 3584 \nQ 2378 3584 2631 3529 \nQ 2884 3475 3122 3366 \nz\n\" transform=\"scale(0.015625)\"/>\n       <path id=\"DejaVuSans-68\" d=\"M 3513 2113 \nL 3513 0 \nL 2938 0 \nL 2938 2094 \nQ 2938 2591 2744 2837 \nQ 2550 3084 2163 3084 \nQ 1697 3084 1428 2787 \nQ 1159 2491 1159 1978 \nL 1159 0 \nL 581 0 \nL 581 4863 \nL 1159 4863 \nL 1159 2956 \nQ 1366 3272 1645 3428 \nQ 1925 3584 2291 3584 \nQ 2894 3584 3203 3211 \nQ 3513 2838 3513 2113 \nz\n\" transform=\"scale(0.015625)\"/>\n      </defs>\n      <use xlink:href=\"#DejaVuSans-65\"/>\n      <use xlink:href=\"#DejaVuSans-70\" x=\"61.523438\"/>\n      <use xlink:href=\"#DejaVuSans-6f\" x=\"125\"/>\n      <use xlink:href=\"#DejaVuSans-63\" x=\"186.181641\"/>\n      <use xlink:href=\"#DejaVuSans-68\" x=\"241.162109\"/>\n     </g>\n    </g>\n   </g>\n   <g id=\"matplotlib.axis_2\">\n    <g id=\"ytick_1\">\n     <g id=\"line2d_7\">\n      <defs>\n       <path id=\"m9cba0b5c6a\" d=\"M 0 0 \nL -3.5 0 \n\" style=\"stroke: #000000; stroke-width: 0.8\"/>\n      </defs>\n      <g>\n       <use xlink:href=\"#m9cba0b5c6a\" x=\"30.103125\" y=\"142.863854\" style=\"stroke: #000000; stroke-width: 0.8\"/>\n      </g>\n     </g>\n     <g id=\"text_8\">\n      <!-- 0.0 -->\n      <g transform=\"translate(7.2 146.663072) scale(0.1 -0.1)\">\n       <defs>\n        <path id=\"DejaVuSans-2e\" d=\"M 684 794 \nL 1344 794 \nL 1344 0 \nL 684 0 \nL 684 794 \nz\n\" transform=\"scale(0.015625)\"/>\n       </defs>\n       <use xlink:href=\"#DejaVuSans-30\"/>\n       <use xlink:href=\"#DejaVuSans-2e\" x=\"63.623047\"/>\n       <use xlink:href=\"#DejaVuSans-30\" x=\"95.410156\"/>\n      </g>\n     </g>\n    </g>\n    <g id=\"ytick_2\">\n     <g id=\"line2d_8\">\n      <g>\n       <use xlink:href=\"#m9cba0b5c6a\" x=\"30.103125\" y=\"114.5586\" style=\"stroke: #000000; stroke-width: 0.8\"/>\n      </g>\n     </g>\n     <g id=\"text_9\">\n      <!-- 0.2 -->\n      <g transform=\"translate(7.2 118.357819) scale(0.1 -0.1)\">\n       <use xlink:href=\"#DejaVuSans-30\"/>\n       <use xlink:href=\"#DejaVuSans-2e\" x=\"63.623047\"/>\n       <use xlink:href=\"#DejaVuSans-32\" x=\"95.410156\"/>\n      </g>\n     </g>\n    </g>\n    <g id=\"ytick_3\">\n     <g id=\"line2d_9\">\n      <g>\n       <use xlink:href=\"#m9cba0b5c6a\" x=\"30.103125\" y=\"86.253347\" style=\"stroke: #000000; stroke-width: 0.8\"/>\n      </g>\n     </g>\n     <g id=\"text_10\">\n      <!-- 0.4 -->\n      <g transform=\"translate(7.2 90.052565) scale(0.1 -0.1)\">\n       <use xlink:href=\"#DejaVuSans-30\"/>\n       <use xlink:href=\"#DejaVuSans-2e\" x=\"63.623047\"/>\n       <use xlink:href=\"#DejaVuSans-34\" x=\"95.410156\"/>\n      </g>\n     </g>\n    </g>\n    <g id=\"ytick_4\">\n     <g id=\"line2d_10\">\n      <g>\n       <use xlink:href=\"#m9cba0b5c6a\" x=\"30.103125\" y=\"57.948093\" style=\"stroke: #000000; stroke-width: 0.8\"/>\n      </g>\n     </g>\n     <g id=\"text_11\">\n      <!-- 0.6 -->\n      <g transform=\"translate(7.2 61.747312) scale(0.1 -0.1)\">\n       <use xlink:href=\"#DejaVuSans-30\"/>\n       <use xlink:href=\"#DejaVuSans-2e\" x=\"63.623047\"/>\n       <use xlink:href=\"#DejaVuSans-36\" x=\"95.410156\"/>\n      </g>\n     </g>\n    </g>\n    <g id=\"ytick_5\">\n     <g id=\"line2d_11\">\n      <g>\n       <use xlink:href=\"#m9cba0b5c6a\" x=\"30.103125\" y=\"29.64284\" style=\"stroke: #000000; stroke-width: 0.8\"/>\n      </g>\n     </g>\n     <g id=\"text_12\">\n      <!-- 0.8 -->\n      <g transform=\"translate(7.2 33.442059) scale(0.1 -0.1)\">\n       <use xlink:href=\"#DejaVuSans-30\"/>\n       <use xlink:href=\"#DejaVuSans-2e\" x=\"63.623047\"/>\n       <use xlink:href=\"#DejaVuSans-38\" x=\"95.410156\"/>\n      </g>\n     </g>\n    </g>\n   </g>\n   <g id=\"line2d_12\">\n    <path d=\"M 34.954394 62.549107 \n\" clip-path=\"url(#pf297fbcb77)\" style=\"fill: none; stroke: #1f77b4; stroke-width: 1.5; stroke-linecap: square\"/>\n   </g>\n   <g id=\"line2d_13\">\n    <path d=\"M 34.954394 62.549107 \nL 44.698573 93.856014 \n\" clip-path=\"url(#pf297fbcb77)\" style=\"fill: none; stroke: #1f77b4; stroke-width: 1.5; stroke-linecap: square\"/>\n   </g>\n   <g id=\"line2d_14\">\n    <path d=\"M 34.954394 62.549107 \nL 44.698573 93.856014 \n\" clip-path=\"url(#pf297fbcb77)\" style=\"fill: none; stroke: #1f77b4; stroke-width: 1.5; stroke-linecap: square\"/>\n   </g>\n   <g id=\"line2d_15\">\n    <path d=\"M 49.633125 82.26131 \n\" clip-path=\"url(#pf297fbcb77)\" style=\"fill: none; stroke-dasharray: 5.55,2.4; stroke-dashoffset: 0; stroke: #ff7f0e; stroke-width: 1.5\"/>\n   </g>\n   <g id=\"line2d_16\"/>\n   <g id=\"line2d_17\">\n    <path d=\"M 34.954394 62.549107 \nL 44.698573 93.856014 \n\" clip-path=\"url(#pf297fbcb77)\" style=\"fill: none; stroke: #1f77b4; stroke-width: 1.5; stroke-linecap: square\"/>\n   </g>\n   <g id=\"line2d_18\">\n    <path d=\"M 49.633125 82.26131 \n\" clip-path=\"url(#pf297fbcb77)\" style=\"fill: none; stroke-dasharray: 5.55,2.4; stroke-dashoffset: 0; stroke: #ff7f0e; stroke-width: 1.5\"/>\n   </g>\n   <g id=\"line2d_19\">\n    <path d=\"M 49.633125 23.325103 \n\" clip-path=\"url(#pf297fbcb77)\" style=\"fill: none; stroke-dasharray: 9.6,2.4,1.5,2.4; stroke-dashoffset: 0; stroke: #2ca02c; stroke-width: 1.5\"/>\n   </g>\n   <g id=\"line2d_20\">\n    <path d=\"M 34.954394 62.549107 \nL 44.698573 93.856014 \nL 54.442752 103.311798 \n\" clip-path=\"url(#pf297fbcb77)\" style=\"fill: none; stroke: #1f77b4; stroke-width: 1.5; stroke-linecap: square\"/>\n   </g>\n   <g id=\"line2d_21\">\n    <path d=\"M 49.633125 82.26131 \n\" clip-path=\"url(#pf297fbcb77)\" style=\"fill: none; stroke-dasharray: 5.55,2.4; stroke-dashoffset: 0; stroke: #ff7f0e; stroke-width: 1.5\"/>\n   </g>\n   <g id=\"line2d_22\">\n    <path d=\"M 49.633125 23.325103 \n\" clip-path=\"url(#pf297fbcb77)\" style=\"fill: none; stroke-dasharray: 9.6,2.4,1.5,2.4; stroke-dashoffset: 0; stroke: #2ca02c; stroke-width: 1.5\"/>\n   </g>\n   <g id=\"line2d_23\">\n    <path d=\"M 34.954394 62.549107 \nL 44.698573 93.856014 \nL 54.442752 103.311798 \nL 64.186931 105.520522 \n\" clip-path=\"url(#pf297fbcb77)\" style=\"fill: none; stroke: #1f77b4; stroke-width: 1.5; stroke-linecap: square\"/>\n   </g>\n   <g id=\"line2d_24\">\n    <path d=\"M 49.633125 82.26131 \n\" clip-path=\"url(#pf297fbcb77)\" style=\"fill: none; stroke-dasharray: 5.55,2.4; stroke-dashoffset: 0; stroke: #ff7f0e; stroke-width: 1.5\"/>\n   </g>\n   <g id=\"line2d_25\">\n    <path d=\"M 49.633125 23.325103 \n\" clip-path=\"url(#pf297fbcb77)\" style=\"fill: none; stroke-dasharray: 9.6,2.4,1.5,2.4; stroke-dashoffset: 0; stroke: #2ca02c; stroke-width: 1.5\"/>\n   </g>\n   <g id=\"line2d_26\">\n    <path d=\"M 34.954394 62.549107 \nL 44.698573 93.856014 \nL 54.442752 103.311798 \nL 64.186931 105.520522 \n\" clip-path=\"url(#pf297fbcb77)\" style=\"fill: none; stroke: #1f77b4; stroke-width: 1.5; stroke-linecap: square\"/>\n   </g>\n   <g id=\"line2d_27\">\n    <path d=\"M 49.633125 82.26131 \nL 69.163125 97.286036 \n\" clip-path=\"url(#pf297fbcb77)\" style=\"fill: none; stroke-dasharray: 5.55,2.4; stroke-dashoffset: 0; stroke: #ff7f0e; stroke-width: 1.5\"/>\n   </g>\n   <g id=\"line2d_28\">\n    <path d=\"M 49.633125 23.325103 \n\" clip-path=\"url(#pf297fbcb77)\" style=\"fill: none; stroke-dasharray: 9.6,2.4,1.5,2.4; stroke-dashoffset: 0; stroke: #2ca02c; stroke-width: 1.5\"/>\n   </g>\n   <g id=\"line2d_29\">\n    <path d=\"M 34.954394 62.549107 \nL 44.698573 93.856014 \nL 54.442752 103.311798 \nL 64.186931 105.520522 \n\" clip-path=\"url(#pf297fbcb77)\" style=\"fill: none; stroke: #1f77b4; stroke-width: 1.5; stroke-linecap: square\"/>\n   </g>\n   <g id=\"line2d_30\">\n    <path d=\"M 49.633125 82.26131 \nL 69.163125 97.286036 \n\" clip-path=\"url(#pf297fbcb77)\" style=\"fill: none; stroke-dasharray: 5.55,2.4; stroke-dashoffset: 0; stroke: #ff7f0e; stroke-width: 1.5\"/>\n   </g>\n   <g id=\"line2d_31\">\n    <path d=\"M 49.633125 23.325103 \nL 69.163125 17.880708 \n\" clip-path=\"url(#pf297fbcb77)\" style=\"fill: none; stroke-dasharray: 9.6,2.4,1.5,2.4; stroke-dashoffset: 0; stroke: #2ca02c; stroke-width: 1.5\"/>\n   </g>\n   <g id=\"line2d_32\">\n    <path d=\"M 34.954394 62.549107 \nL 44.698573 93.856014 \nL 54.442752 103.311798 \nL 64.186931 105.520522 \nL 73.93111 112.854192 \n\" clip-path=\"url(#pf297fbcb77)\" style=\"fill: none; stroke: #1f77b4; stroke-width: 1.5; stroke-linecap: square\"/>\n   </g>\n   <g id=\"line2d_33\">\n    <path d=\"M 49.633125 82.26131 \nL 69.163125 97.286036 \n\" clip-path=\"url(#pf297fbcb77)\" style=\"fill: none; stroke-dasharray: 5.55,2.4; stroke-dashoffset: 0; stroke: #ff7f0e; stroke-width: 1.5\"/>\n   </g>\n   <g id=\"line2d_34\">\n    <path d=\"M 49.633125 23.325103 \nL 69.163125 17.880708 \n\" clip-path=\"url(#pf297fbcb77)\" style=\"fill: none; stroke-dasharray: 9.6,2.4,1.5,2.4; stroke-dashoffset: 0; stroke: #2ca02c; stroke-width: 1.5\"/>\n   </g>\n   <g id=\"line2d_35\">\n    <path d=\"M 34.954394 62.549107 \nL 44.698573 93.856014 \nL 54.442752 103.311798 \nL 64.186931 105.520522 \nL 73.93111 112.854192 \nL 83.675289 112.409783 \n\" clip-path=\"url(#pf297fbcb77)\" style=\"fill: none; stroke: #1f77b4; stroke-width: 1.5; stroke-linecap: square\"/>\n   </g>\n   <g id=\"line2d_36\">\n    <path d=\"M 49.633125 82.26131 \nL 69.163125 97.286036 \n\" clip-path=\"url(#pf297fbcb77)\" style=\"fill: none; stroke-dasharray: 5.55,2.4; stroke-dashoffset: 0; stroke: #ff7f0e; stroke-width: 1.5\"/>\n   </g>\n   <g id=\"line2d_37\">\n    <path d=\"M 49.633125 23.325103 \nL 69.163125 17.880708 \n\" clip-path=\"url(#pf297fbcb77)\" style=\"fill: none; stroke-dasharray: 9.6,2.4,1.5,2.4; stroke-dashoffset: 0; stroke: #2ca02c; stroke-width: 1.5\"/>\n   </g>\n   <g id=\"line2d_38\">\n    <path d=\"M 34.954394 62.549107 \nL 44.698573 93.856014 \nL 54.442752 103.311798 \nL 64.186931 105.520522 \nL 73.93111 112.854192 \nL 83.675289 112.409783 \n\" clip-path=\"url(#pf297fbcb77)\" style=\"fill: none; stroke: #1f77b4; stroke-width: 1.5; stroke-linecap: square\"/>\n   </g>\n   <g id=\"line2d_39\">\n    <path d=\"M 49.633125 82.26131 \nL 69.163125 97.286036 \nL 88.693125 100.532348 \n\" clip-path=\"url(#pf297fbcb77)\" style=\"fill: none; stroke-dasharray: 5.55,2.4; stroke-dashoffset: 0; stroke: #ff7f0e; stroke-width: 1.5\"/>\n   </g>\n   <g id=\"line2d_40\">\n    <path d=\"M 49.633125 23.325103 \nL 69.163125 17.880708 \n\" clip-path=\"url(#pf297fbcb77)\" style=\"fill: none; stroke-dasharray: 9.6,2.4,1.5,2.4; stroke-dashoffset: 0; stroke: #2ca02c; stroke-width: 1.5\"/>\n   </g>\n   <g id=\"line2d_41\">\n    <path d=\"M 34.954394 62.549107 \nL 44.698573 93.856014 \nL 54.442752 103.311798 \nL 64.186931 105.520522 \nL 73.93111 112.854192 \nL 83.675289 112.409783 \n\" clip-path=\"url(#pf297fbcb77)\" style=\"fill: none; stroke: #1f77b4; stroke-width: 1.5; stroke-linecap: square\"/>\n   </g>\n   <g id=\"line2d_42\">\n    <path d=\"M 49.633125 82.26131 \nL 69.163125 97.286036 \nL 88.693125 100.532348 \n\" clip-path=\"url(#pf297fbcb77)\" style=\"fill: none; stroke-dasharray: 5.55,2.4; stroke-dashoffset: 0; stroke: #ff7f0e; stroke-width: 1.5\"/>\n   </g>\n   <g id=\"line2d_43\">\n    <path d=\"M 49.633125 23.325103 \nL 69.163125 17.880708 \nL 88.693125 16.691059 \n\" clip-path=\"url(#pf297fbcb77)\" style=\"fill: none; stroke-dasharray: 9.6,2.4,1.5,2.4; stroke-dashoffset: 0; stroke: #2ca02c; stroke-width: 1.5\"/>\n   </g>\n   <g id=\"line2d_44\">\n    <path d=\"M 34.954394 62.549107 \nL 44.698573 93.856014 \nL 54.442752 103.311798 \nL 64.186931 105.520522 \nL 73.93111 112.854192 \nL 83.675289 112.409783 \nL 93.419468 119.22971 \n\" clip-path=\"url(#pf297fbcb77)\" style=\"fill: none; stroke: #1f77b4; stroke-width: 1.5; stroke-linecap: square\"/>\n   </g>\n   <g id=\"line2d_45\">\n    <path d=\"M 49.633125 82.26131 \nL 69.163125 97.286036 \nL 88.693125 100.532348 \n\" clip-path=\"url(#pf297fbcb77)\" style=\"fill: none; stroke-dasharray: 5.55,2.4; stroke-dashoffset: 0; stroke: #ff7f0e; stroke-width: 1.5\"/>\n   </g>\n   <g id=\"line2d_46\">\n    <path d=\"M 49.633125 23.325103 \nL 69.163125 17.880708 \nL 88.693125 16.691059 \n\" clip-path=\"url(#pf297fbcb77)\" style=\"fill: none; stroke-dasharray: 9.6,2.4,1.5,2.4; stroke-dashoffset: 0; stroke: #2ca02c; stroke-width: 1.5\"/>\n   </g>\n   <g id=\"line2d_47\">\n    <path d=\"M 34.954394 62.549107 \nL 44.698573 93.856014 \nL 54.442752 103.311798 \nL 64.186931 105.520522 \nL 73.93111 112.854192 \nL 83.675289 112.409783 \nL 93.419468 119.22971 \nL 103.163647 118.814998 \n\" clip-path=\"url(#pf297fbcb77)\" style=\"fill: none; stroke: #1f77b4; stroke-width: 1.5; stroke-linecap: square\"/>\n   </g>\n   <g id=\"line2d_48\">\n    <path d=\"M 49.633125 82.26131 \nL 69.163125 97.286036 \nL 88.693125 100.532348 \n\" clip-path=\"url(#pf297fbcb77)\" style=\"fill: none; stroke-dasharray: 5.55,2.4; stroke-dashoffset: 0; stroke: #ff7f0e; stroke-width: 1.5\"/>\n   </g>\n   <g id=\"line2d_49\">\n    <path d=\"M 49.633125 23.325103 \nL 69.163125 17.880708 \nL 88.693125 16.691059 \n\" clip-path=\"url(#pf297fbcb77)\" style=\"fill: none; stroke-dasharray: 9.6,2.4,1.5,2.4; stroke-dashoffset: 0; stroke: #2ca02c; stroke-width: 1.5\"/>\n   </g>\n   <g id=\"line2d_50\">\n    <path d=\"M 34.954394 62.549107 \nL 44.698573 93.856014 \nL 54.442752 103.311798 \nL 64.186931 105.520522 \nL 73.93111 112.854192 \nL 83.675289 112.409783 \nL 93.419468 119.22971 \nL 103.163647 118.814998 \n\" clip-path=\"url(#pf297fbcb77)\" style=\"fill: none; stroke: #1f77b4; stroke-width: 1.5; stroke-linecap: square\"/>\n   </g>\n   <g id=\"line2d_51\">\n    <path d=\"M 49.633125 82.26131 \nL 69.163125 97.286036 \nL 88.693125 100.532348 \nL 108.223125 101.298307 \n\" clip-path=\"url(#pf297fbcb77)\" style=\"fill: none; stroke-dasharray: 5.55,2.4; stroke-dashoffset: 0; stroke: #ff7f0e; stroke-width: 1.5\"/>\n   </g>\n   <g id=\"line2d_52\">\n    <path d=\"M 49.633125 23.325103 \nL 69.163125 17.880708 \nL 88.693125 16.691059 \n\" clip-path=\"url(#pf297fbcb77)\" style=\"fill: none; stroke-dasharray: 9.6,2.4,1.5,2.4; stroke-dashoffset: 0; stroke: #2ca02c; stroke-width: 1.5\"/>\n   </g>\n   <g id=\"line2d_53\">\n    <path d=\"M 34.954394 62.549107 \nL 44.698573 93.856014 \nL 54.442752 103.311798 \nL 64.186931 105.520522 \nL 73.93111 112.854192 \nL 83.675289 112.409783 \nL 93.419468 119.22971 \nL 103.163647 118.814998 \n\" clip-path=\"url(#pf297fbcb77)\" style=\"fill: none; stroke: #1f77b4; stroke-width: 1.5; stroke-linecap: square\"/>\n   </g>\n   <g id=\"line2d_54\">\n    <path d=\"M 49.633125 82.26131 \nL 69.163125 97.286036 \nL 88.693125 100.532348 \nL 108.223125 101.298307 \n\" clip-path=\"url(#pf297fbcb77)\" style=\"fill: none; stroke-dasharray: 5.55,2.4; stroke-dashoffset: 0; stroke: #ff7f0e; stroke-width: 1.5\"/>\n   </g>\n   <g id=\"line2d_55\">\n    <path d=\"M 49.633125 23.325103 \nL 69.163125 17.880708 \nL 88.693125 16.691059 \nL 108.223125 16.38315 \n\" clip-path=\"url(#pf297fbcb77)\" style=\"fill: none; stroke-dasharray: 9.6,2.4,1.5,2.4; stroke-dashoffset: 0; stroke: #2ca02c; stroke-width: 1.5\"/>\n   </g>\n   <g id=\"line2d_56\">\n    <path d=\"M 34.954394 62.549107 \nL 44.698573 93.856014 \nL 54.442752 103.311798 \nL 64.186931 105.520522 \nL 73.93111 112.854192 \nL 83.675289 112.409783 \nL 93.419468 119.22971 \nL 103.163647 118.814998 \nL 112.907826 124.499839 \n\" clip-path=\"url(#pf297fbcb77)\" style=\"fill: none; stroke: #1f77b4; stroke-width: 1.5; stroke-linecap: square\"/>\n   </g>\n   <g id=\"line2d_57\">\n    <path d=\"M 49.633125 82.26131 \nL 69.163125 97.286036 \nL 88.693125 100.532348 \nL 108.223125 101.298307 \n\" clip-path=\"url(#pf297fbcb77)\" style=\"fill: none; stroke-dasharray: 5.55,2.4; stroke-dashoffset: 0; stroke: #ff7f0e; stroke-width: 1.5\"/>\n   </g>\n   <g id=\"line2d_58\">\n    <path d=\"M 49.633125 23.325103 \nL 69.163125 17.880708 \nL 88.693125 16.691059 \nL 108.223125 16.38315 \n\" clip-path=\"url(#pf297fbcb77)\" style=\"fill: none; stroke-dasharray: 9.6,2.4,1.5,2.4; stroke-dashoffset: 0; stroke: #2ca02c; stroke-width: 1.5\"/>\n   </g>\n   <g id=\"line2d_59\">\n    <path d=\"M 34.954394 62.549107 \nL 44.698573 93.856014 \nL 54.442752 103.311798 \nL 64.186931 105.520522 \nL 73.93111 112.854192 \nL 83.675289 112.409783 \nL 93.419468 119.22971 \nL 103.163647 118.814998 \nL 112.907826 124.499839 \nL 122.652006 123.495771 \n\" clip-path=\"url(#pf297fbcb77)\" style=\"fill: none; stroke: #1f77b4; stroke-width: 1.5; stroke-linecap: square\"/>\n   </g>\n   <g id=\"line2d_60\">\n    <path d=\"M 49.633125 82.26131 \nL 69.163125 97.286036 \nL 88.693125 100.532348 \nL 108.223125 101.298307 \n\" clip-path=\"url(#pf297fbcb77)\" style=\"fill: none; stroke-dasharray: 5.55,2.4; stroke-dashoffset: 0; stroke: #ff7f0e; stroke-width: 1.5\"/>\n   </g>\n   <g id=\"line2d_61\">\n    <path d=\"M 49.633125 23.325103 \nL 69.163125 17.880708 \nL 88.693125 16.691059 \nL 108.223125 16.38315 \n\" clip-path=\"url(#pf297fbcb77)\" style=\"fill: none; stroke-dasharray: 9.6,2.4,1.5,2.4; stroke-dashoffset: 0; stroke: #2ca02c; stroke-width: 1.5\"/>\n   </g>\n   <g id=\"line2d_62\">\n    <path d=\"M 34.954394 62.549107 \nL 44.698573 93.856014 \nL 54.442752 103.311798 \nL 64.186931 105.520522 \nL 73.93111 112.854192 \nL 83.675289 112.409783 \nL 93.419468 119.22971 \nL 103.163647 118.814998 \nL 112.907826 124.499839 \nL 122.652006 123.495771 \n\" clip-path=\"url(#pf297fbcb77)\" style=\"fill: none; stroke: #1f77b4; stroke-width: 1.5; stroke-linecap: square\"/>\n   </g>\n   <g id=\"line2d_63\">\n    <path d=\"M 49.633125 82.26131 \nL 69.163125 97.286036 \nL 88.693125 100.532348 \nL 108.223125 101.298307 \nL 127.753125 104.272904 \n\" clip-path=\"url(#pf297fbcb77)\" style=\"fill: none; stroke-dasharray: 5.55,2.4; stroke-dashoffset: 0; stroke: #ff7f0e; stroke-width: 1.5\"/>\n   </g>\n   <g id=\"line2d_64\">\n    <path d=\"M 49.633125 23.325103 \nL 69.163125 17.880708 \nL 88.693125 16.691059 \nL 108.223125 16.38315 \n\" clip-path=\"url(#pf297fbcb77)\" style=\"fill: none; stroke-dasharray: 9.6,2.4,1.5,2.4; stroke-dashoffset: 0; stroke: #2ca02c; stroke-width: 1.5\"/>\n   </g>\n   <g id=\"line2d_65\">\n    <path d=\"M 34.954394 62.549107 \nL 44.698573 93.856014 \nL 54.442752 103.311798 \nL 64.186931 105.520522 \nL 73.93111 112.854192 \nL 83.675289 112.409783 \nL 93.419468 119.22971 \nL 103.163647 118.814998 \nL 112.907826 124.499839 \nL 122.652006 123.495771 \n\" clip-path=\"url(#pf297fbcb77)\" style=\"fill: none; stroke: #1f77b4; stroke-width: 1.5; stroke-linecap: square\"/>\n   </g>\n   <g id=\"line2d_66\">\n    <path d=\"M 49.633125 82.26131 \nL 69.163125 97.286036 \nL 88.693125 100.532348 \nL 108.223125 101.298307 \nL 127.753125 104.272904 \n\" clip-path=\"url(#pf297fbcb77)\" style=\"fill: none; stroke-dasharray: 5.55,2.4; stroke-dashoffset: 0; stroke: #ff7f0e; stroke-width: 1.5\"/>\n   </g>\n   <g id=\"line2d_67\">\n    <path d=\"M 49.633125 23.325103 \nL 69.163125 17.880708 \nL 88.693125 16.691059 \nL 108.223125 16.38315 \nL 127.753125 15.473418 \n\" clip-path=\"url(#pf297fbcb77)\" style=\"fill: none; stroke-dasharray: 9.6,2.4,1.5,2.4; stroke-dashoffset: 0; stroke: #2ca02c; stroke-width: 1.5\"/>\n   </g>\n   <g id=\"line2d_68\">\n    <path d=\"M 34.954394 62.549107 \nL 44.698573 93.856014 \nL 54.442752 103.311798 \nL 64.186931 105.520522 \nL 73.93111 112.854192 \nL 83.675289 112.409783 \nL 93.419468 119.22971 \nL 103.163647 118.814998 \nL 112.907826 124.499839 \nL 122.652006 123.495771 \nL 132.396185 129.285726 \n\" clip-path=\"url(#pf297fbcb77)\" style=\"fill: none; stroke: #1f77b4; stroke-width: 1.5; stroke-linecap: square\"/>\n   </g>\n   <g id=\"line2d_69\">\n    <path d=\"M 49.633125 82.26131 \nL 69.163125 97.286036 \nL 88.693125 100.532348 \nL 108.223125 101.298307 \nL 127.753125 104.272904 \n\" clip-path=\"url(#pf297fbcb77)\" style=\"fill: none; stroke-dasharray: 5.55,2.4; stroke-dashoffset: 0; stroke: #ff7f0e; stroke-width: 1.5\"/>\n   </g>\n   <g id=\"line2d_70\">\n    <path d=\"M 49.633125 23.325103 \nL 69.163125 17.880708 \nL 88.693125 16.691059 \nL 108.223125 16.38315 \nL 127.753125 15.473418 \n\" clip-path=\"url(#pf297fbcb77)\" style=\"fill: none; stroke-dasharray: 9.6,2.4,1.5,2.4; stroke-dashoffset: 0; stroke: #2ca02c; stroke-width: 1.5\"/>\n   </g>\n   <g id=\"line2d_71\">\n    <path d=\"M 34.954394 62.549107 \nL 44.698573 93.856014 \nL 54.442752 103.311798 \nL 64.186931 105.520522 \nL 73.93111 112.854192 \nL 83.675289 112.409783 \nL 93.419468 119.22971 \nL 103.163647 118.814998 \nL 112.907826 124.499839 \nL 122.652006 123.495771 \nL 132.396185 129.285726 \nL 142.140364 127.139501 \n\" clip-path=\"url(#pf297fbcb77)\" style=\"fill: none; stroke: #1f77b4; stroke-width: 1.5; stroke-linecap: square\"/>\n   </g>\n   <g id=\"line2d_72\">\n    <path d=\"M 49.633125 82.26131 \nL 69.163125 97.286036 \nL 88.693125 100.532348 \nL 108.223125 101.298307 \nL 127.753125 104.272904 \n\" clip-path=\"url(#pf297fbcb77)\" style=\"fill: none; stroke-dasharray: 5.55,2.4; stroke-dashoffset: 0; stroke: #ff7f0e; stroke-width: 1.5\"/>\n   </g>\n   <g id=\"line2d_73\">\n    <path d=\"M 49.633125 23.325103 \nL 69.163125 17.880708 \nL 88.693125 16.691059 \nL 108.223125 16.38315 \nL 127.753125 15.473418 \n\" clip-path=\"url(#pf297fbcb77)\" style=\"fill: none; stroke-dasharray: 9.6,2.4,1.5,2.4; stroke-dashoffset: 0; stroke: #2ca02c; stroke-width: 1.5\"/>\n   </g>\n   <g id=\"line2d_74\">\n    <path d=\"M 34.954394 62.549107 \nL 44.698573 93.856014 \nL 54.442752 103.311798 \nL 64.186931 105.520522 \nL 73.93111 112.854192 \nL 83.675289 112.409783 \nL 93.419468 119.22971 \nL 103.163647 118.814998 \nL 112.907826 124.499839 \nL 122.652006 123.495771 \nL 132.396185 129.285726 \nL 142.140364 127.139501 \n\" clip-path=\"url(#pf297fbcb77)\" style=\"fill: none; stroke: #1f77b4; stroke-width: 1.5; stroke-linecap: square\"/>\n   </g>\n   <g id=\"line2d_75\">\n    <path d=\"M 49.633125 82.26131 \nL 69.163125 97.286036 \nL 88.693125 100.532348 \nL 108.223125 101.298307 \nL 127.753125 104.272904 \nL 147.283125 103.778505 \n\" clip-path=\"url(#pf297fbcb77)\" style=\"fill: none; stroke-dasharray: 5.55,2.4; stroke-dashoffset: 0; stroke: #ff7f0e; stroke-width: 1.5\"/>\n   </g>\n   <g id=\"line2d_76\">\n    <path d=\"M 49.633125 23.325103 \nL 69.163125 17.880708 \nL 88.693125 16.691059 \nL 108.223125 16.38315 \nL 127.753125 15.473418 \n\" clip-path=\"url(#pf297fbcb77)\" style=\"fill: none; stroke-dasharray: 9.6,2.4,1.5,2.4; stroke-dashoffset: 0; stroke: #2ca02c; stroke-width: 1.5\"/>\n   </g>\n   <g id=\"line2d_77\">\n    <path d=\"M 34.954394 62.549107 \nL 44.698573 93.856014 \nL 54.442752 103.311798 \nL 64.186931 105.520522 \nL 73.93111 112.854192 \nL 83.675289 112.409783 \nL 93.419468 119.22971 \nL 103.163647 118.814998 \nL 112.907826 124.499839 \nL 122.652006 123.495771 \nL 132.396185 129.285726 \nL 142.140364 127.139501 \n\" clip-path=\"url(#pf297fbcb77)\" style=\"fill: none; stroke: #1f77b4; stroke-width: 1.5; stroke-linecap: square\"/>\n   </g>\n   <g id=\"line2d_78\">\n    <path d=\"M 49.633125 82.26131 \nL 69.163125 97.286036 \nL 88.693125 100.532348 \nL 108.223125 101.298307 \nL 127.753125 104.272904 \nL 147.283125 103.778505 \n\" clip-path=\"url(#pf297fbcb77)\" style=\"fill: none; stroke-dasharray: 5.55,2.4; stroke-dashoffset: 0; stroke: #ff7f0e; stroke-width: 1.5\"/>\n   </g>\n   <g id=\"line2d_79\">\n    <path d=\"M 49.633125 23.325103 \nL 69.163125 17.880708 \nL 88.693125 16.691059 \nL 108.223125 16.38315 \nL 127.753125 15.473418 \nL 147.283125 14.955571 \n\" clip-path=\"url(#pf297fbcb77)\" style=\"fill: none; stroke-dasharray: 9.6,2.4,1.5,2.4; stroke-dashoffset: 0; stroke: #2ca02c; stroke-width: 1.5\"/>\n   </g>\n   <g id=\"line2d_80\">\n    <path d=\"M 34.954394 62.549107 \nL 44.698573 93.856014 \nL 54.442752 103.311798 \nL 64.186931 105.520522 \nL 73.93111 112.854192 \nL 83.675289 112.409783 \nL 93.419468 119.22971 \nL 103.163647 118.814998 \nL 112.907826 124.499839 \nL 122.652006 123.495771 \nL 132.396185 129.285726 \nL 142.140364 127.139501 \nL 151.884543 132.745158 \n\" clip-path=\"url(#pf297fbcb77)\" style=\"fill: none; stroke: #1f77b4; stroke-width: 1.5; stroke-linecap: square\"/>\n   </g>\n   <g id=\"line2d_81\">\n    <path d=\"M 49.633125 82.26131 \nL 69.163125 97.286036 \nL 88.693125 100.532348 \nL 108.223125 101.298307 \nL 127.753125 104.272904 \nL 147.283125 103.778505 \n\" clip-path=\"url(#pf297fbcb77)\" style=\"fill: none; stroke-dasharray: 5.55,2.4; stroke-dashoffset: 0; stroke: #ff7f0e; stroke-width: 1.5\"/>\n   </g>\n   <g id=\"line2d_82\">\n    <path d=\"M 49.633125 23.325103 \nL 69.163125 17.880708 \nL 88.693125 16.691059 \nL 108.223125 16.38315 \nL 127.753125 15.473418 \nL 147.283125 14.955571 \n\" clip-path=\"url(#pf297fbcb77)\" style=\"fill: none; stroke-dasharray: 9.6,2.4,1.5,2.4; stroke-dashoffset: 0; stroke: #2ca02c; stroke-width: 1.5\"/>\n   </g>\n   <g id=\"line2d_83\">\n    <path d=\"M 34.954394 62.549107 \nL 44.698573 93.856014 \nL 54.442752 103.311798 \nL 64.186931 105.520522 \nL 73.93111 112.854192 \nL 83.675289 112.409783 \nL 93.419468 119.22971 \nL 103.163647 118.814998 \nL 112.907826 124.499839 \nL 122.652006 123.495771 \nL 132.396185 129.285726 \nL 142.140364 127.139501 \nL 151.884543 132.745158 \nL 161.628722 131.075896 \n\" clip-path=\"url(#pf297fbcb77)\" style=\"fill: none; stroke: #1f77b4; stroke-width: 1.5; stroke-linecap: square\"/>\n   </g>\n   <g id=\"line2d_84\">\n    <path d=\"M 49.633125 82.26131 \nL 69.163125 97.286036 \nL 88.693125 100.532348 \nL 108.223125 101.298307 \nL 127.753125 104.272904 \nL 147.283125 103.778505 \n\" clip-path=\"url(#pf297fbcb77)\" style=\"fill: none; stroke-dasharray: 5.55,2.4; stroke-dashoffset: 0; stroke: #ff7f0e; stroke-width: 1.5\"/>\n   </g>\n   <g id=\"line2d_85\">\n    <path d=\"M 49.633125 23.325103 \nL 69.163125 17.880708 \nL 88.693125 16.691059 \nL 108.223125 16.38315 \nL 127.753125 15.473418 \nL 147.283125 14.955571 \n\" clip-path=\"url(#pf297fbcb77)\" style=\"fill: none; stroke-dasharray: 9.6,2.4,1.5,2.4; stroke-dashoffset: 0; stroke: #2ca02c; stroke-width: 1.5\"/>\n   </g>\n   <g id=\"line2d_86\">\n    <path d=\"M 34.954394 62.549107 \nL 44.698573 93.856014 \nL 54.442752 103.311798 \nL 64.186931 105.520522 \nL 73.93111 112.854192 \nL 83.675289 112.409783 \nL 93.419468 119.22971 \nL 103.163647 118.814998 \nL 112.907826 124.499839 \nL 122.652006 123.495771 \nL 132.396185 129.285726 \nL 142.140364 127.139501 \nL 151.884543 132.745158 \nL 161.628722 131.075896 \n\" clip-path=\"url(#pf297fbcb77)\" style=\"fill: none; stroke: #1f77b4; stroke-width: 1.5; stroke-linecap: square\"/>\n   </g>\n   <g id=\"line2d_87\">\n    <path d=\"M 49.633125 82.26131 \nL 69.163125 97.286036 \nL 88.693125 100.532348 \nL 108.223125 101.298307 \nL 127.753125 104.272904 \nL 147.283125 103.778505 \nL 166.813125 101.954499 \n\" clip-path=\"url(#pf297fbcb77)\" style=\"fill: none; stroke-dasharray: 5.55,2.4; stroke-dashoffset: 0; stroke: #ff7f0e; stroke-width: 1.5\"/>\n   </g>\n   <g id=\"line2d_88\">\n    <path d=\"M 49.633125 23.325103 \nL 69.163125 17.880708 \nL 88.693125 16.691059 \nL 108.223125 16.38315 \nL 127.753125 15.473418 \nL 147.283125 14.955571 \n\" clip-path=\"url(#pf297fbcb77)\" style=\"fill: none; stroke-dasharray: 9.6,2.4,1.5,2.4; stroke-dashoffset: 0; stroke: #2ca02c; stroke-width: 1.5\"/>\n   </g>\n   <g id=\"line2d_89\">\n    <path d=\"M 34.954394 62.549107 \nL 44.698573 93.856014 \nL 54.442752 103.311798 \nL 64.186931 105.520522 \nL 73.93111 112.854192 \nL 83.675289 112.409783 \nL 93.419468 119.22971 \nL 103.163647 118.814998 \nL 112.907826 124.499839 \nL 122.652006 123.495771 \nL 132.396185 129.285726 \nL 142.140364 127.139501 \nL 151.884543 132.745158 \nL 161.628722 131.075896 \n\" clip-path=\"url(#pf297fbcb77)\" style=\"fill: none; stroke: #1f77b4; stroke-width: 1.5; stroke-linecap: square\"/>\n   </g>\n   <g id=\"line2d_90\">\n    <path d=\"M 49.633125 82.26131 \nL 69.163125 97.286036 \nL 88.693125 100.532348 \nL 108.223125 101.298307 \nL 127.753125 104.272904 \nL 147.283125 103.778505 \nL 166.813125 101.954499 \n\" clip-path=\"url(#pf297fbcb77)\" style=\"fill: none; stroke-dasharray: 5.55,2.4; stroke-dashoffset: 0; stroke: #ff7f0e; stroke-width: 1.5\"/>\n   </g>\n   <g id=\"line2d_91\">\n    <path d=\"M 49.633125 23.325103 \nL 69.163125 17.880708 \nL 88.693125 16.691059 \nL 108.223125 16.38315 \nL 127.753125 15.473418 \nL 147.283125 14.955571 \nL 166.813125 14.801616 \n\" clip-path=\"url(#pf297fbcb77)\" style=\"fill: none; stroke-dasharray: 9.6,2.4,1.5,2.4; stroke-dashoffset: 0; stroke: #2ca02c; stroke-width: 1.5\"/>\n   </g>\n   <g id=\"line2d_92\">\n    <path d=\"M 34.954394 62.549107 \nL 44.698573 93.856014 \nL 54.442752 103.311798 \nL 64.186931 105.520522 \nL 73.93111 112.854192 \nL 83.675289 112.409783 \nL 93.419468 119.22971 \nL 103.163647 118.814998 \nL 112.907826 124.499839 \nL 122.652006 123.495771 \nL 132.396185 129.285726 \nL 142.140364 127.139501 \nL 151.884543 132.745158 \nL 161.628722 131.075896 \nL 171.372901 136.289451 \n\" clip-path=\"url(#pf297fbcb77)\" style=\"fill: none; stroke: #1f77b4; stroke-width: 1.5; stroke-linecap: square\"/>\n   </g>\n   <g id=\"line2d_93\">\n    <path d=\"M 49.633125 82.26131 \nL 69.163125 97.286036 \nL 88.693125 100.532348 \nL 108.223125 101.298307 \nL 127.753125 104.272904 \nL 147.283125 103.778505 \nL 166.813125 101.954499 \n\" clip-path=\"url(#pf297fbcb77)\" style=\"fill: none; stroke-dasharray: 5.55,2.4; stroke-dashoffset: 0; stroke: #ff7f0e; stroke-width: 1.5\"/>\n   </g>\n   <g id=\"line2d_94\">\n    <path d=\"M 49.633125 23.325103 \nL 69.163125 17.880708 \nL 88.693125 16.691059 \nL 108.223125 16.38315 \nL 127.753125 15.473418 \nL 147.283125 14.955571 \nL 166.813125 14.801616 \n\" clip-path=\"url(#pf297fbcb77)\" style=\"fill: none; stroke-dasharray: 9.6,2.4,1.5,2.4; stroke-dashoffset: 0; stroke: #2ca02c; stroke-width: 1.5\"/>\n   </g>\n   <g id=\"line2d_95\">\n    <path d=\"M 34.954394 62.549107 \nL 44.698573 93.856014 \nL 54.442752 103.311798 \nL 64.186931 105.520522 \nL 73.93111 112.854192 \nL 83.675289 112.409783 \nL 93.419468 119.22971 \nL 103.163647 118.814998 \nL 112.907826 124.499839 \nL 122.652006 123.495771 \nL 132.396185 129.285726 \nL 142.140364 127.139501 \nL 151.884543 132.745158 \nL 161.628722 131.075896 \nL 171.372901 136.289451 \nL 181.11708 134.253453 \n\" clip-path=\"url(#pf297fbcb77)\" style=\"fill: none; stroke: #1f77b4; stroke-width: 1.5; stroke-linecap: square\"/>\n   </g>\n   <g id=\"line2d_96\">\n    <path d=\"M 49.633125 82.26131 \nL 69.163125 97.286036 \nL 88.693125 100.532348 \nL 108.223125 101.298307 \nL 127.753125 104.272904 \nL 147.283125 103.778505 \nL 166.813125 101.954499 \n\" clip-path=\"url(#pf297fbcb77)\" style=\"fill: none; stroke-dasharray: 5.55,2.4; stroke-dashoffset: 0; stroke: #ff7f0e; stroke-width: 1.5\"/>\n   </g>\n   <g id=\"line2d_97\">\n    <path d=\"M 49.633125 23.325103 \nL 69.163125 17.880708 \nL 88.693125 16.691059 \nL 108.223125 16.38315 \nL 127.753125 15.473418 \nL 147.283125 14.955571 \nL 166.813125 14.801616 \n\" clip-path=\"url(#pf297fbcb77)\" style=\"fill: none; stroke-dasharray: 9.6,2.4,1.5,2.4; stroke-dashoffset: 0; stroke: #2ca02c; stroke-width: 1.5\"/>\n   </g>\n   <g id=\"line2d_98\">\n    <path d=\"M 34.954394 62.549107 \nL 44.698573 93.856014 \nL 54.442752 103.311798 \nL 64.186931 105.520522 \nL 73.93111 112.854192 \nL 83.675289 112.409783 \nL 93.419468 119.22971 \nL 103.163647 118.814998 \nL 112.907826 124.499839 \nL 122.652006 123.495771 \nL 132.396185 129.285726 \nL 142.140364 127.139501 \nL 151.884543 132.745158 \nL 161.628722 131.075896 \nL 171.372901 136.289451 \nL 181.11708 134.253453 \n\" clip-path=\"url(#pf297fbcb77)\" style=\"fill: none; stroke: #1f77b4; stroke-width: 1.5; stroke-linecap: square\"/>\n   </g>\n   <g id=\"line2d_99\">\n    <path d=\"M 49.633125 82.26131 \nL 69.163125 97.286036 \nL 88.693125 100.532348 \nL 108.223125 101.298307 \nL 127.753125 104.272904 \nL 147.283125 103.778505 \nL 166.813125 101.954499 \nL 186.343125 103.181621 \n\" clip-path=\"url(#pf297fbcb77)\" style=\"fill: none; stroke-dasharray: 5.55,2.4; stroke-dashoffset: 0; stroke: #ff7f0e; stroke-width: 1.5\"/>\n   </g>\n   <g id=\"line2d_100\">\n    <path d=\"M 49.633125 23.325103 \nL 69.163125 17.880708 \nL 88.693125 16.691059 \nL 108.223125 16.38315 \nL 127.753125 15.473418 \nL 147.283125 14.955571 \nL 166.813125 14.801616 \n\" clip-path=\"url(#pf297fbcb77)\" style=\"fill: none; stroke-dasharray: 9.6,2.4,1.5,2.4; stroke-dashoffset: 0; stroke: #2ca02c; stroke-width: 1.5\"/>\n   </g>\n   <g id=\"line2d_101\">\n    <path d=\"M 34.954394 62.549107 \nL 44.698573 93.856014 \nL 54.442752 103.311798 \nL 64.186931 105.520522 \nL 73.93111 112.854192 \nL 83.675289 112.409783 \nL 93.419468 119.22971 \nL 103.163647 118.814998 \nL 112.907826 124.499839 \nL 122.652006 123.495771 \nL 132.396185 129.285726 \nL 142.140364 127.139501 \nL 151.884543 132.745158 \nL 161.628722 131.075896 \nL 171.372901 136.289451 \nL 181.11708 134.253453 \n\" clip-path=\"url(#pf297fbcb77)\" style=\"fill: none; stroke: #1f77b4; stroke-width: 1.5; stroke-linecap: square\"/>\n   </g>\n   <g id=\"line2d_102\">\n    <path d=\"M 49.633125 82.26131 \nL 69.163125 97.286036 \nL 88.693125 100.532348 \nL 108.223125 101.298307 \nL 127.753125 104.272904 \nL 147.283125 103.778505 \nL 166.813125 101.954499 \nL 186.343125 103.181621 \n\" clip-path=\"url(#pf297fbcb77)\" style=\"fill: none; stroke-dasharray: 5.55,2.4; stroke-dashoffset: 0; stroke: #ff7f0e; stroke-width: 1.5\"/>\n   </g>\n   <g id=\"line2d_103\">\n    <path d=\"M 49.633125 23.325103 \nL 69.163125 17.880708 \nL 88.693125 16.691059 \nL 108.223125 16.38315 \nL 127.753125 15.473418 \nL 147.283125 14.955571 \nL 166.813125 14.801616 \nL 186.343125 13.5 \n\" clip-path=\"url(#pf297fbcb77)\" style=\"fill: none; stroke-dasharray: 9.6,2.4,1.5,2.4; stroke-dashoffset: 0; stroke: #2ca02c; stroke-width: 1.5\"/>\n   </g>\n   <g id=\"line2d_104\">\n    <path d=\"M 34.954394 62.549107 \nL 44.698573 93.856014 \nL 54.442752 103.311798 \nL 64.186931 105.520522 \nL 73.93111 112.854192 \nL 83.675289 112.409783 \nL 93.419468 119.22971 \nL 103.163647 118.814998 \nL 112.907826 124.499839 \nL 122.652006 123.495771 \nL 132.396185 129.285726 \nL 142.140364 127.139501 \nL 151.884543 132.745158 \nL 161.628722 131.075896 \nL 171.372901 136.289451 \nL 181.11708 134.253453 \nL 190.861259 138.22415 \n\" clip-path=\"url(#pf297fbcb77)\" style=\"fill: none; stroke: #1f77b4; stroke-width: 1.5; stroke-linecap: square\"/>\n   </g>\n   <g id=\"line2d_105\">\n    <path d=\"M 49.633125 82.26131 \nL 69.163125 97.286036 \nL 88.693125 100.532348 \nL 108.223125 101.298307 \nL 127.753125 104.272904 \nL 147.283125 103.778505 \nL 166.813125 101.954499 \nL 186.343125 103.181621 \n\" clip-path=\"url(#pf297fbcb77)\" style=\"fill: none; stroke-dasharray: 5.55,2.4; stroke-dashoffset: 0; stroke: #ff7f0e; stroke-width: 1.5\"/>\n   </g>\n   <g id=\"line2d_106\">\n    <path d=\"M 49.633125 23.325103 \nL 69.163125 17.880708 \nL 88.693125 16.691059 \nL 108.223125 16.38315 \nL 127.753125 15.473418 \nL 147.283125 14.955571 \nL 166.813125 14.801616 \nL 186.343125 13.5 \n\" clip-path=\"url(#pf297fbcb77)\" style=\"fill: none; stroke-dasharray: 9.6,2.4,1.5,2.4; stroke-dashoffset: 0; stroke: #2ca02c; stroke-width: 1.5\"/>\n   </g>\n   <g id=\"line2d_107\">\n    <path d=\"M 34.954394 62.549107 \nL 44.698573 93.856014 \nL 54.442752 103.311798 \nL 64.186931 105.520522 \nL 73.93111 112.854192 \nL 83.675289 112.409783 \nL 93.419468 119.22971 \nL 103.163647 118.814998 \nL 112.907826 124.499839 \nL 122.652006 123.495771 \nL 132.396185 129.285726 \nL 142.140364 127.139501 \nL 151.884543 132.745158 \nL 161.628722 131.075896 \nL 171.372901 136.289451 \nL 181.11708 134.253453 \nL 190.861259 138.22415 \nL 200.605438 136.830623 \n\" clip-path=\"url(#pf297fbcb77)\" style=\"fill: none; stroke: #1f77b4; stroke-width: 1.5; stroke-linecap: square\"/>\n   </g>\n   <g id=\"line2d_108\">\n    <path d=\"M 49.633125 82.26131 \nL 69.163125 97.286036 \nL 88.693125 100.532348 \nL 108.223125 101.298307 \nL 127.753125 104.272904 \nL 147.283125 103.778505 \nL 166.813125 101.954499 \nL 186.343125 103.181621 \n\" clip-path=\"url(#pf297fbcb77)\" style=\"fill: none; stroke-dasharray: 5.55,2.4; stroke-dashoffset: 0; stroke: #ff7f0e; stroke-width: 1.5\"/>\n   </g>\n   <g id=\"line2d_109\">\n    <path d=\"M 49.633125 23.325103 \nL 69.163125 17.880708 \nL 88.693125 16.691059 \nL 108.223125 16.38315 \nL 127.753125 15.473418 \nL 147.283125 14.955571 \nL 166.813125 14.801616 \nL 186.343125 13.5 \n\" clip-path=\"url(#pf297fbcb77)\" style=\"fill: none; stroke-dasharray: 9.6,2.4,1.5,2.4; stroke-dashoffset: 0; stroke: #2ca02c; stroke-width: 1.5\"/>\n   </g>\n   <g id=\"line2d_110\">\n    <path d=\"M 34.954394 62.549107 \nL 44.698573 93.856014 \nL 54.442752 103.311798 \nL 64.186931 105.520522 \nL 73.93111 112.854192 \nL 83.675289 112.409783 \nL 93.419468 119.22971 \nL 103.163647 118.814998 \nL 112.907826 124.499839 \nL 122.652006 123.495771 \nL 132.396185 129.285726 \nL 142.140364 127.139501 \nL 151.884543 132.745158 \nL 161.628722 131.075896 \nL 171.372901 136.289451 \nL 181.11708 134.253453 \nL 190.861259 138.22415 \nL 200.605438 136.830623 \n\" clip-path=\"url(#pf297fbcb77)\" style=\"fill: none; stroke: #1f77b4; stroke-width: 1.5; stroke-linecap: square\"/>\n   </g>\n   <g id=\"line2d_111\">\n    <path d=\"M 49.633125 82.26131 \nL 69.163125 97.286036 \nL 88.693125 100.532348 \nL 108.223125 101.298307 \nL 127.753125 104.272904 \nL 147.283125 103.778505 \nL 166.813125 101.954499 \nL 186.343125 103.181621 \nL 205.873125 99.633287 \n\" clip-path=\"url(#pf297fbcb77)\" style=\"fill: none; stroke-dasharray: 5.55,2.4; stroke-dashoffset: 0; stroke: #ff7f0e; stroke-width: 1.5\"/>\n   </g>\n   <g id=\"line2d_112\">\n    <path d=\"M 49.633125 23.325103 \nL 69.163125 17.880708 \nL 88.693125 16.691059 \nL 108.223125 16.38315 \nL 127.753125 15.473418 \nL 147.283125 14.955571 \nL 166.813125 14.801616 \nL 186.343125 13.5 \n\" clip-path=\"url(#pf297fbcb77)\" style=\"fill: none; stroke-dasharray: 9.6,2.4,1.5,2.4; stroke-dashoffset: 0; stroke: #2ca02c; stroke-width: 1.5\"/>\n   </g>\n   <g id=\"line2d_113\">\n    <path d=\"M 34.954394 62.549107 \nL 44.698573 93.856014 \nL 54.442752 103.311798 \nL 64.186931 105.520522 \nL 73.93111 112.854192 \nL 83.675289 112.409783 \nL 93.419468 119.22971 \nL 103.163647 118.814998 \nL 112.907826 124.499839 \nL 122.652006 123.495771 \nL 132.396185 129.285726 \nL 142.140364 127.139501 \nL 151.884543 132.745158 \nL 161.628722 131.075896 \nL 171.372901 136.289451 \nL 181.11708 134.253453 \nL 190.861259 138.22415 \nL 200.605438 136.830623 \n\" clip-path=\"url(#pf297fbcb77)\" style=\"fill: none; stroke: #1f77b4; stroke-width: 1.5; stroke-linecap: square\"/>\n   </g>\n   <g id=\"line2d_114\">\n    <path d=\"M 49.633125 82.26131 \nL 69.163125 97.286036 \nL 88.693125 100.532348 \nL 108.223125 101.298307 \nL 127.753125 104.272904 \nL 147.283125 103.778505 \nL 166.813125 101.954499 \nL 186.343125 103.181621 \nL 205.873125 99.633287 \n\" clip-path=\"url(#pf297fbcb77)\" style=\"fill: none; stroke-dasharray: 5.55,2.4; stroke-dashoffset: 0; stroke: #ff7f0e; stroke-width: 1.5\"/>\n   </g>\n   <g id=\"line2d_115\">\n    <path d=\"M 49.633125 23.325103 \nL 69.163125 17.880708 \nL 88.693125 16.691059 \nL 108.223125 16.38315 \nL 127.753125 15.473418 \nL 147.283125 14.955571 \nL 166.813125 14.801616 \nL 186.343125 13.5 \nL 205.873125 13.639959 \n\" clip-path=\"url(#pf297fbcb77)\" style=\"fill: none; stroke-dasharray: 9.6,2.4,1.5,2.4; stroke-dashoffset: 0; stroke: #2ca02c; stroke-width: 1.5\"/>\n   </g>\n   <g id=\"line2d_116\">\n    <path d=\"M 34.954394 62.549107 \nL 44.698573 93.856014 \nL 54.442752 103.311798 \nL 64.186931 105.520522 \nL 73.93111 112.854192 \nL 83.675289 112.409783 \nL 93.419468 119.22971 \nL 103.163647 118.814998 \nL 112.907826 124.499839 \nL 122.652006 123.495771 \nL 132.396185 129.285726 \nL 142.140364 127.139501 \nL 151.884543 132.745158 \nL 161.628722 131.075896 \nL 171.372901 136.289451 \nL 181.11708 134.253453 \nL 190.861259 138.22415 \nL 200.605438 136.830623 \nL 210.349618 139.5 \n\" clip-path=\"url(#pf297fbcb77)\" style=\"fill: none; stroke: #1f77b4; stroke-width: 1.5; stroke-linecap: square\"/>\n   </g>\n   <g id=\"line2d_117\">\n    <path d=\"M 49.633125 82.26131 \nL 69.163125 97.286036 \nL 88.693125 100.532348 \nL 108.223125 101.298307 \nL 127.753125 104.272904 \nL 147.283125 103.778505 \nL 166.813125 101.954499 \nL 186.343125 103.181621 \nL 205.873125 99.633287 \n\" clip-path=\"url(#pf297fbcb77)\" style=\"fill: none; stroke-dasharray: 5.55,2.4; stroke-dashoffset: 0; stroke: #ff7f0e; stroke-width: 1.5\"/>\n   </g>\n   <g id=\"line2d_118\">\n    <path d=\"M 49.633125 23.325103 \nL 69.163125 17.880708 \nL 88.693125 16.691059 \nL 108.223125 16.38315 \nL 127.753125 15.473418 \nL 147.283125 14.955571 \nL 166.813125 14.801616 \nL 186.343125 13.5 \nL 205.873125 13.639959 \n\" clip-path=\"url(#pf297fbcb77)\" style=\"fill: none; stroke-dasharray: 9.6,2.4,1.5,2.4; stroke-dashoffset: 0; stroke: #2ca02c; stroke-width: 1.5\"/>\n   </g>\n   <g id=\"line2d_119\">\n    <path d=\"M 34.954394 62.549107 \nL 44.698573 93.856014 \nL 54.442752 103.311798 \nL 64.186931 105.520522 \nL 73.93111 112.854192 \nL 83.675289 112.409783 \nL 93.419468 119.22971 \nL 103.163647 118.814998 \nL 112.907826 124.499839 \nL 122.652006 123.495771 \nL 132.396185 129.285726 \nL 142.140364 127.139501 \nL 151.884543 132.745158 \nL 161.628722 131.075896 \nL 171.372901 136.289451 \nL 181.11708 134.253453 \nL 190.861259 138.22415 \nL 200.605438 136.830623 \nL 210.349618 139.5 \nL 220.093797 139.184576 \n\" clip-path=\"url(#pf297fbcb77)\" style=\"fill: none; stroke: #1f77b4; stroke-width: 1.5; stroke-linecap: square\"/>\n   </g>\n   <g id=\"line2d_120\">\n    <path d=\"M 49.633125 82.26131 \nL 69.163125 97.286036 \nL 88.693125 100.532348 \nL 108.223125 101.298307 \nL 127.753125 104.272904 \nL 147.283125 103.778505 \nL 166.813125 101.954499 \nL 186.343125 103.181621 \nL 205.873125 99.633287 \n\" clip-path=\"url(#pf297fbcb77)\" style=\"fill: none; stroke-dasharray: 5.55,2.4; stroke-dashoffset: 0; stroke: #ff7f0e; stroke-width: 1.5\"/>\n   </g>\n   <g id=\"line2d_121\">\n    <path d=\"M 49.633125 23.325103 \nL 69.163125 17.880708 \nL 88.693125 16.691059 \nL 108.223125 16.38315 \nL 127.753125 15.473418 \nL 147.283125 14.955571 \nL 166.813125 14.801616 \nL 186.343125 13.5 \nL 205.873125 13.639959 \n\" clip-path=\"url(#pf297fbcb77)\" style=\"fill: none; stroke-dasharray: 9.6,2.4,1.5,2.4; stroke-dashoffset: 0; stroke: #2ca02c; stroke-width: 1.5\"/>\n   </g>\n   <g id=\"line2d_122\">\n    <path d=\"M 34.954394 62.549107 \nL 44.698573 93.856014 \nL 54.442752 103.311798 \nL 64.186931 105.520522 \nL 73.93111 112.854192 \nL 83.675289 112.409783 \nL 93.419468 119.22971 \nL 103.163647 118.814998 \nL 112.907826 124.499839 \nL 122.652006 123.495771 \nL 132.396185 129.285726 \nL 142.140364 127.139501 \nL 151.884543 132.745158 \nL 161.628722 131.075896 \nL 171.372901 136.289451 \nL 181.11708 134.253453 \nL 190.861259 138.22415 \nL 200.605438 136.830623 \nL 210.349618 139.5 \nL 220.093797 139.184576 \n\" clip-path=\"url(#pf297fbcb77)\" style=\"fill: none; stroke: #1f77b4; stroke-width: 1.5; stroke-linecap: square\"/>\n   </g>\n   <g id=\"line2d_123\">\n    <path d=\"M 49.633125 82.26131 \nL 69.163125 97.286036 \nL 88.693125 100.532348 \nL 108.223125 101.298307 \nL 127.753125 104.272904 \nL 147.283125 103.778505 \nL 166.813125 101.954499 \nL 186.343125 103.181621 \nL 205.873125 99.633287 \nL 225.403125 93.748203 \n\" clip-path=\"url(#pf297fbcb77)\" style=\"fill: none; stroke-dasharray: 5.55,2.4; stroke-dashoffset: 0; stroke: #ff7f0e; stroke-width: 1.5\"/>\n   </g>\n   <g id=\"line2d_124\">\n    <path d=\"M 49.633125 23.325103 \nL 69.163125 17.880708 \nL 88.693125 16.691059 \nL 108.223125 16.38315 \nL 127.753125 15.473418 \nL 147.283125 14.955571 \nL 166.813125 14.801616 \nL 186.343125 13.5 \nL 205.873125 13.639959 \n\" clip-path=\"url(#pf297fbcb77)\" style=\"fill: none; stroke-dasharray: 9.6,2.4,1.5,2.4; stroke-dashoffset: 0; stroke: #2ca02c; stroke-width: 1.5\"/>\n   </g>\n   <g id=\"line2d_125\">\n    <path d=\"M 34.954394 62.549107 \nL 44.698573 93.856014 \nL 54.442752 103.311798 \nL 64.186931 105.520522 \nL 73.93111 112.854192 \nL 83.675289 112.409783 \nL 93.419468 119.22971 \nL 103.163647 118.814998 \nL 112.907826 124.499839 \nL 122.652006 123.495771 \nL 132.396185 129.285726 \nL 142.140364 127.139501 \nL 151.884543 132.745158 \nL 161.628722 131.075896 \nL 171.372901 136.289451 \nL 181.11708 134.253453 \nL 190.861259 138.22415 \nL 200.605438 136.830623 \nL 210.349618 139.5 \nL 220.093797 139.184576 \n\" clip-path=\"url(#pf297fbcb77)\" style=\"fill: none; stroke: #1f77b4; stroke-width: 1.5; stroke-linecap: square\"/>\n   </g>\n   <g id=\"line2d_126\">\n    <path d=\"M 49.633125 82.26131 \nL 69.163125 97.286036 \nL 88.693125 100.532348 \nL 108.223125 101.298307 \nL 127.753125 104.272904 \nL 147.283125 103.778505 \nL 166.813125 101.954499 \nL 186.343125 103.181621 \nL 205.873125 99.633287 \nL 225.403125 93.748203 \n\" clip-path=\"url(#pf297fbcb77)\" style=\"fill: none; stroke-dasharray: 5.55,2.4; stroke-dashoffset: 0; stroke: #ff7f0e; stroke-width: 1.5\"/>\n   </g>\n   <g id=\"line2d_127\">\n    <path d=\"M 49.633125 23.325103 \nL 69.163125 17.880708 \nL 88.693125 16.691059 \nL 108.223125 16.38315 \nL 127.753125 15.473418 \nL 147.283125 14.955571 \nL 166.813125 14.801616 \nL 186.343125 13.5 \nL 205.873125 13.639959 \nL 225.403125 14.829608 \n\" clip-path=\"url(#pf297fbcb77)\" style=\"fill: none; stroke-dasharray: 9.6,2.4,1.5,2.4; stroke-dashoffset: 0; stroke: #2ca02c; stroke-width: 1.5\"/>\n   </g>\n   <g id=\"patch_3\">\n    <path d=\"M 30.103125 145.8 \nL 30.103125 7.2 \n\" style=\"fill: none; stroke: #000000; stroke-width: 0.8; stroke-linejoin: miter; stroke-linecap: square\"/>\n   </g>\n   <g id=\"patch_4\">\n    <path d=\"M 225.403125 145.8 \nL 225.403125 7.2 \n\" style=\"fill: none; stroke: #000000; stroke-width: 0.8; stroke-linejoin: miter; stroke-linecap: square\"/>\n   </g>\n   <g id=\"patch_5\">\n    <path d=\"M 30.103125 145.8 \nL 225.403125 145.8 \n\" style=\"fill: none; stroke: #000000; stroke-width: 0.8; stroke-linejoin: miter; stroke-linecap: square\"/>\n   </g>\n   <g id=\"patch_6\">\n    <path d=\"M 30.103125 7.2 \nL 225.403125 7.2 \n\" style=\"fill: none; stroke: #000000; stroke-width: 0.8; stroke-linejoin: miter; stroke-linecap: square\"/>\n   </g>\n   <g id=\"legend_1\">\n    <g id=\"patch_7\">\n     <path d=\"M 138.8125 100.434375 \nL 218.403125 100.434375 \nQ 220.403125 100.434375 220.403125 98.434375 \nL 220.403125 54.565625 \nQ 220.403125 52.565625 218.403125 52.565625 \nL 138.8125 52.565625 \nQ 136.8125 52.565625 136.8125 54.565625 \nL 136.8125 98.434375 \nQ 136.8125 100.434375 138.8125 100.434375 \nz\n\" style=\"fill: #ffffff; opacity: 0.8; stroke: #cccccc; stroke-linejoin: miter\"/>\n    </g>\n    <g id=\"line2d_128\">\n     <path d=\"M 140.8125 60.664063 \nL 150.8125 60.664063 \nL 160.8125 60.664063 \n\" style=\"fill: none; stroke: #1f77b4; stroke-width: 1.5; stroke-linecap: square\"/>\n    </g>\n    <g id=\"text_13\">\n     <!-- train_loss -->\n     <g transform=\"translate(168.8125 64.164063) scale(0.1 -0.1)\">\n      <defs>\n       <path id=\"DejaVuSans-74\" d=\"M 1172 4494 \nL 1172 3500 \nL 2356 3500 \nL 2356 3053 \nL 1172 3053 \nL 1172 1153 \nQ 1172 725 1289 603 \nQ 1406 481 1766 481 \nL 2356 481 \nL 2356 0 \nL 1766 0 \nQ 1100 0 847 248 \nQ 594 497 594 1153 \nL 594 3053 \nL 172 3053 \nL 172 3500 \nL 594 3500 \nL 594 4494 \nL 1172 4494 \nz\n\" transform=\"scale(0.015625)\"/>\n       <path id=\"DejaVuSans-72\" d=\"M 2631 2963 \nQ 2534 3019 2420 3045 \nQ 2306 3072 2169 3072 \nQ 1681 3072 1420 2755 \nQ 1159 2438 1159 1844 \nL 1159 0 \nL 581 0 \nL 581 3500 \nL 1159 3500 \nL 1159 2956 \nQ 1341 3275 1631 3429 \nQ 1922 3584 2338 3584 \nQ 2397 3584 2469 3576 \nQ 2541 3569 2628 3553 \nL 2631 2963 \nz\n\" transform=\"scale(0.015625)\"/>\n       <path id=\"DejaVuSans-61\" d=\"M 2194 1759 \nQ 1497 1759 1228 1600 \nQ 959 1441 959 1056 \nQ 959 750 1161 570 \nQ 1363 391 1709 391 \nQ 2188 391 2477 730 \nQ 2766 1069 2766 1631 \nL 2766 1759 \nL 2194 1759 \nz\nM 3341 1997 \nL 3341 0 \nL 2766 0 \nL 2766 531 \nQ 2569 213 2275 61 \nQ 1981 -91 1556 -91 \nQ 1019 -91 701 211 \nQ 384 513 384 1019 \nQ 384 1609 779 1909 \nQ 1175 2209 1959 2209 \nL 2766 2209 \nL 2766 2266 \nQ 2766 2663 2505 2880 \nQ 2244 3097 1772 3097 \nQ 1472 3097 1187 3025 \nQ 903 2953 641 2809 \nL 641 3341 \nQ 956 3463 1253 3523 \nQ 1550 3584 1831 3584 \nQ 2591 3584 2966 3190 \nQ 3341 2797 3341 1997 \nz\n\" transform=\"scale(0.015625)\"/>\n       <path id=\"DejaVuSans-69\" d=\"M 603 3500 \nL 1178 3500 \nL 1178 0 \nL 603 0 \nL 603 3500 \nz\nM 603 4863 \nL 1178 4863 \nL 1178 4134 \nL 603 4134 \nL 603 4863 \nz\n\" transform=\"scale(0.015625)\"/>\n       <path id=\"DejaVuSans-6e\" d=\"M 3513 2113 \nL 3513 0 \nL 2938 0 \nL 2938 2094 \nQ 2938 2591 2744 2837 \nQ 2550 3084 2163 3084 \nQ 1697 3084 1428 2787 \nQ 1159 2491 1159 1978 \nL 1159 0 \nL 581 0 \nL 581 3500 \nL 1159 3500 \nL 1159 2956 \nQ 1366 3272 1645 3428 \nQ 1925 3584 2291 3584 \nQ 2894 3584 3203 3211 \nQ 3513 2838 3513 2113 \nz\n\" transform=\"scale(0.015625)\"/>\n       <path id=\"DejaVuSans-5f\" d=\"M 3263 -1063 \nL 3263 -1509 \nL -63 -1509 \nL -63 -1063 \nL 3263 -1063 \nz\n\" transform=\"scale(0.015625)\"/>\n       <path id=\"DejaVuSans-6c\" d=\"M 603 4863 \nL 1178 4863 \nL 1178 0 \nL 603 0 \nL 603 4863 \nz\n\" transform=\"scale(0.015625)\"/>\n       <path id=\"DejaVuSans-73\" d=\"M 2834 3397 \nL 2834 2853 \nQ 2591 2978 2328 3040 \nQ 2066 3103 1784 3103 \nQ 1356 3103 1142 2972 \nQ 928 2841 928 2578 \nQ 928 2378 1081 2264 \nQ 1234 2150 1697 2047 \nL 1894 2003 \nQ 2506 1872 2764 1633 \nQ 3022 1394 3022 966 \nQ 3022 478 2636 193 \nQ 2250 -91 1575 -91 \nQ 1294 -91 989 -36 \nQ 684 19 347 128 \nL 347 722 \nQ 666 556 975 473 \nQ 1284 391 1588 391 \nQ 1994 391 2212 530 \nQ 2431 669 2431 922 \nQ 2431 1156 2273 1281 \nQ 2116 1406 1581 1522 \nL 1381 1569 \nQ 847 1681 609 1914 \nQ 372 2147 372 2553 \nQ 372 3047 722 3315 \nQ 1072 3584 1716 3584 \nQ 2034 3584 2315 3537 \nQ 2597 3491 2834 3397 \nz\n\" transform=\"scale(0.015625)\"/>\n      </defs>\n      <use xlink:href=\"#DejaVuSans-74\"/>\n      <use xlink:href=\"#DejaVuSans-72\" x=\"39.208984\"/>\n      <use xlink:href=\"#DejaVuSans-61\" x=\"80.322266\"/>\n      <use xlink:href=\"#DejaVuSans-69\" x=\"141.601562\"/>\n      <use xlink:href=\"#DejaVuSans-6e\" x=\"169.384766\"/>\n      <use xlink:href=\"#DejaVuSans-5f\" x=\"232.763672\"/>\n      <use xlink:href=\"#DejaVuSans-6c\" x=\"282.763672\"/>\n      <use xlink:href=\"#DejaVuSans-6f\" x=\"310.546875\"/>\n      <use xlink:href=\"#DejaVuSans-73\" x=\"371.728516\"/>\n      <use xlink:href=\"#DejaVuSans-73\" x=\"423.828125\"/>\n     </g>\n    </g>\n    <g id=\"line2d_129\">\n     <path d=\"M 140.8125 75.620313 \nL 150.8125 75.620313 \nL 160.8125 75.620313 \n\" style=\"fill: none; stroke-dasharray: 5.55,2.4; stroke-dashoffset: 0; stroke: #ff7f0e; stroke-width: 1.5\"/>\n    </g>\n    <g id=\"text_14\">\n     <!-- val_loss -->\n     <g transform=\"translate(168.8125 79.120313) scale(0.1 -0.1)\">\n      <defs>\n       <path id=\"DejaVuSans-76\" d=\"M 191 3500 \nL 800 3500 \nL 1894 563 \nL 2988 3500 \nL 3597 3500 \nL 2284 0 \nL 1503 0 \nL 191 3500 \nz\n\" transform=\"scale(0.015625)\"/>\n      </defs>\n      <use xlink:href=\"#DejaVuSans-76\"/>\n      <use xlink:href=\"#DejaVuSans-61\" x=\"59.179688\"/>\n      <use xlink:href=\"#DejaVuSans-6c\" x=\"120.458984\"/>\n      <use xlink:href=\"#DejaVuSans-5f\" x=\"148.242188\"/>\n      <use xlink:href=\"#DejaVuSans-6c\" x=\"198.242188\"/>\n      <use xlink:href=\"#DejaVuSans-6f\" x=\"226.025391\"/>\n      <use xlink:href=\"#DejaVuSans-73\" x=\"287.207031\"/>\n      <use xlink:href=\"#DejaVuSans-73\" x=\"339.306641\"/>\n     </g>\n    </g>\n    <g id=\"line2d_130\">\n     <path d=\"M 140.8125 90.576563 \nL 150.8125 90.576563 \nL 160.8125 90.576563 \n\" style=\"fill: none; stroke-dasharray: 9.6,2.4,1.5,2.4; stroke-dashoffset: 0; stroke: #2ca02c; stroke-width: 1.5\"/>\n    </g>\n    <g id=\"text_15\">\n     <!-- val_acc -->\n     <g transform=\"translate(168.8125 94.076563) scale(0.1 -0.1)\">\n      <use xlink:href=\"#DejaVuSans-76\"/>\n      <use xlink:href=\"#DejaVuSans-61\" x=\"59.179688\"/>\n      <use xlink:href=\"#DejaVuSans-6c\" x=\"120.458984\"/>\n      <use xlink:href=\"#DejaVuSans-5f\" x=\"148.242188\"/>\n      <use xlink:href=\"#DejaVuSans-61\" x=\"198.242188\"/>\n      <use xlink:href=\"#DejaVuSans-63\" x=\"259.521484\"/>\n      <use xlink:href=\"#DejaVuSans-63\" x=\"314.501953\"/>\n     </g>\n    </g>\n   </g>\n  </g>\n </g>\n <defs>\n  <clipPath id=\"pf297fbcb77\">\n   <rect x=\"30.103125\" y=\"7.2\" width=\"195.3\" height=\"138.6\"/>\n  </clipPath>\n </defs>\n</svg>\n"
          },
          "metadata": {}
        }
      ]
    }
  ]
}